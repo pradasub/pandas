{
 "cells": [
  {
   "cell_type": "markdown",
   "metadata": {},
   "source": [
    "# Pickle try"
   ]
  },
  {
   "cell_type": "code",
   "execution_count": 17,
   "metadata": {},
   "outputs": [],
   "source": [
    "import pickle\n",
    "import pandas as pd"
   ]
  },
  {
   "cell_type": "code",
   "execution_count": 18,
   "metadata": {},
   "outputs": [],
   "source": [
    "# dict "
   ]
  },
  {
   "cell_type": "code",
   "execution_count": 19,
   "metadata": {},
   "outputs": [],
   "source": [
    "# Students in my classes\n",
    "# No duplicates in names\n",
    "student_dict = {\n",
    "    'name' : ['jack', 'Riti', 'Aadi','prada','Ramesh','Niscal','zu','Eric'],\n",
    "    'subject':['CS','Math','English','Physics','Physics','Stat','Math','CS'],\n",
    "    'age' : [34, 30, 26,30,32,25,25,27],\n",
    "    'city' : ['Sydney', 'Delhi', 'New york','ktm','ktm','Wilmington','Jakarta','Shanghai'],\n",
    "    'salary':[8000, 1000,4000,10000,2500,3000,3000,10000]\n",
    "}"
   ]
  },
  {
   "cell_type": "code",
   "execution_count": 20,
   "metadata": {},
   "outputs": [],
   "source": [
    "dict_path = 'dict.p'"
   ]
  },
  {
   "cell_type": "code",
   "execution_count": 21,
   "metadata": {},
   "outputs": [],
   "source": [
    "with open(dict_path, 'wb') as f:\n",
    "        pickle.dump(student_dict, f)"
   ]
  },
  {
   "cell_type": "code",
   "execution_count": 22,
   "metadata": {},
   "outputs": [],
   "source": [
    "student_dataframe = pd.DataFrame(student_dict)"
   ]
  },
  {
   "cell_type": "code",
   "execution_count": 23,
   "metadata": {},
   "outputs": [],
   "source": [
    "dataframe_path = 'dataframe.p'"
   ]
  },
  {
   "cell_type": "code",
   "execution_count": 24,
   "metadata": {},
   "outputs": [],
   "source": [
    "with open(dataframe_path, 'wb') as f:\n",
    "        pickle.dump(student_dataframe, f)"
   ]
  },
  {
   "cell_type": "code",
   "execution_count": 25,
   "metadata": {},
   "outputs": [
    {
     "data": {
      "text/html": [
       "<div>\n",
       "<style scoped>\n",
       "    .dataframe tbody tr th:only-of-type {\n",
       "        vertical-align: middle;\n",
       "    }\n",
       "\n",
       "    .dataframe tbody tr th {\n",
       "        vertical-align: top;\n",
       "    }\n",
       "\n",
       "    .dataframe thead th {\n",
       "        text-align: right;\n",
       "    }\n",
       "</style>\n",
       "<table border=\"1\" class=\"dataframe\">\n",
       "  <thead>\n",
       "    <tr style=\"text-align: right;\">\n",
       "      <th></th>\n",
       "      <th>name</th>\n",
       "      <th>subject</th>\n",
       "      <th>age</th>\n",
       "      <th>city</th>\n",
       "      <th>salary</th>\n",
       "    </tr>\n",
       "  </thead>\n",
       "  <tbody>\n",
       "    <tr>\n",
       "      <td>0</td>\n",
       "      <td>jack</td>\n",
       "      <td>CS</td>\n",
       "      <td>34</td>\n",
       "      <td>Sydney</td>\n",
       "      <td>8000</td>\n",
       "    </tr>\n",
       "    <tr>\n",
       "      <td>1</td>\n",
       "      <td>Riti</td>\n",
       "      <td>Math</td>\n",
       "      <td>30</td>\n",
       "      <td>Delhi</td>\n",
       "      <td>1000</td>\n",
       "    </tr>\n",
       "    <tr>\n",
       "      <td>2</td>\n",
       "      <td>Aadi</td>\n",
       "      <td>English</td>\n",
       "      <td>26</td>\n",
       "      <td>New york</td>\n",
       "      <td>4000</td>\n",
       "    </tr>\n",
       "    <tr>\n",
       "      <td>3</td>\n",
       "      <td>prada</td>\n",
       "      <td>Physics</td>\n",
       "      <td>30</td>\n",
       "      <td>ktm</td>\n",
       "      <td>10000</td>\n",
       "    </tr>\n",
       "    <tr>\n",
       "      <td>4</td>\n",
       "      <td>Ramesh</td>\n",
       "      <td>Physics</td>\n",
       "      <td>32</td>\n",
       "      <td>ktm</td>\n",
       "      <td>2500</td>\n",
       "    </tr>\n",
       "    <tr>\n",
       "      <td>5</td>\n",
       "      <td>Niscal</td>\n",
       "      <td>Stat</td>\n",
       "      <td>25</td>\n",
       "      <td>Wilmington</td>\n",
       "      <td>3000</td>\n",
       "    </tr>\n",
       "    <tr>\n",
       "      <td>6</td>\n",
       "      <td>zu</td>\n",
       "      <td>Math</td>\n",
       "      <td>25</td>\n",
       "      <td>Jakarta</td>\n",
       "      <td>3000</td>\n",
       "    </tr>\n",
       "    <tr>\n",
       "      <td>7</td>\n",
       "      <td>Eric</td>\n",
       "      <td>CS</td>\n",
       "      <td>27</td>\n",
       "      <td>Shanghai</td>\n",
       "      <td>10000</td>\n",
       "    </tr>\n",
       "  </tbody>\n",
       "</table>\n",
       "</div>"
      ],
      "text/plain": [
       "     name  subject  age        city  salary\n",
       "0    jack       CS   34      Sydney    8000\n",
       "1    Riti     Math   30       Delhi    1000\n",
       "2    Aadi  English   26    New york    4000\n",
       "3   prada  Physics   30         ktm   10000\n",
       "4  Ramesh  Physics   32         ktm    2500\n",
       "5  Niscal     Stat   25  Wilmington    3000\n",
       "6      zu     Math   25     Jakarta    3000\n",
       "7    Eric       CS   27    Shanghai   10000"
      ]
     },
     "execution_count": 25,
     "metadata": {},
     "output_type": "execute_result"
    }
   ],
   "source": [
    "student_dataframe"
   ]
  },
  {
   "cell_type": "markdown",
   "metadata": {},
   "source": [
    "# Read pickle files"
   ]
  },
  {
   "cell_type": "code",
   "execution_count": 30,
   "metadata": {},
   "outputs": [],
   "source": [
    "with open(dataframe_path, 'rb') as f:\n",
    "        check = pickle.load(f)"
   ]
  },
  {
   "cell_type": "code",
   "execution_count": 31,
   "metadata": {},
   "outputs": [
    {
     "data": {
      "text/html": [
       "<div>\n",
       "<style scoped>\n",
       "    .dataframe tbody tr th:only-of-type {\n",
       "        vertical-align: middle;\n",
       "    }\n",
       "\n",
       "    .dataframe tbody tr th {\n",
       "        vertical-align: top;\n",
       "    }\n",
       "\n",
       "    .dataframe thead th {\n",
       "        text-align: right;\n",
       "    }\n",
       "</style>\n",
       "<table border=\"1\" class=\"dataframe\">\n",
       "  <thead>\n",
       "    <tr style=\"text-align: right;\">\n",
       "      <th></th>\n",
       "      <th>name</th>\n",
       "      <th>subject</th>\n",
       "      <th>age</th>\n",
       "      <th>city</th>\n",
       "      <th>salary</th>\n",
       "    </tr>\n",
       "  </thead>\n",
       "  <tbody>\n",
       "    <tr>\n",
       "      <td>0</td>\n",
       "      <td>jack</td>\n",
       "      <td>CS</td>\n",
       "      <td>34</td>\n",
       "      <td>Sydney</td>\n",
       "      <td>8000</td>\n",
       "    </tr>\n",
       "    <tr>\n",
       "      <td>1</td>\n",
       "      <td>Riti</td>\n",
       "      <td>Math</td>\n",
       "      <td>30</td>\n",
       "      <td>Delhi</td>\n",
       "      <td>1000</td>\n",
       "    </tr>\n",
       "    <tr>\n",
       "      <td>2</td>\n",
       "      <td>Aadi</td>\n",
       "      <td>English</td>\n",
       "      <td>26</td>\n",
       "      <td>New york</td>\n",
       "      <td>4000</td>\n",
       "    </tr>\n",
       "    <tr>\n",
       "      <td>3</td>\n",
       "      <td>prada</td>\n",
       "      <td>Physics</td>\n",
       "      <td>30</td>\n",
       "      <td>ktm</td>\n",
       "      <td>10000</td>\n",
       "    </tr>\n",
       "    <tr>\n",
       "      <td>4</td>\n",
       "      <td>Ramesh</td>\n",
       "      <td>Physics</td>\n",
       "      <td>32</td>\n",
       "      <td>ktm</td>\n",
       "      <td>2500</td>\n",
       "    </tr>\n",
       "    <tr>\n",
       "      <td>5</td>\n",
       "      <td>Niscal</td>\n",
       "      <td>Stat</td>\n",
       "      <td>25</td>\n",
       "      <td>Wilmington</td>\n",
       "      <td>3000</td>\n",
       "    </tr>\n",
       "    <tr>\n",
       "      <td>6</td>\n",
       "      <td>zu</td>\n",
       "      <td>Math</td>\n",
       "      <td>25</td>\n",
       "      <td>Jakarta</td>\n",
       "      <td>3000</td>\n",
       "    </tr>\n",
       "    <tr>\n",
       "      <td>7</td>\n",
       "      <td>Eric</td>\n",
       "      <td>CS</td>\n",
       "      <td>27</td>\n",
       "      <td>Shanghai</td>\n",
       "      <td>10000</td>\n",
       "    </tr>\n",
       "  </tbody>\n",
       "</table>\n",
       "</div>"
      ],
      "text/plain": [
       "     name  subject  age        city  salary\n",
       "0    jack       CS   34      Sydney    8000\n",
       "1    Riti     Math   30       Delhi    1000\n",
       "2    Aadi  English   26    New york    4000\n",
       "3   prada  Physics   30         ktm   10000\n",
       "4  Ramesh  Physics   32         ktm    2500\n",
       "5  Niscal     Stat   25  Wilmington    3000\n",
       "6      zu     Math   25     Jakarta    3000\n",
       "7    Eric       CS   27    Shanghai   10000"
      ]
     },
     "execution_count": 31,
     "metadata": {},
     "output_type": "execute_result"
    }
   ],
   "source": [
    "check"
   ]
  },
  {
   "cell_type": "code",
   "execution_count": null,
   "metadata": {},
   "outputs": [],
   "source": []
  }
 ],
 "metadata": {
  "kernelspec": {
   "display_name": "Python 3",
   "language": "python",
   "name": "python3"
  },
  "language_info": {
   "codemirror_mode": {
    "name": "ipython",
    "version": 3
   },
   "file_extension": ".py",
   "mimetype": "text/x-python",
   "name": "python",
   "nbconvert_exporter": "python",
   "pygments_lexer": "ipython3",
   "version": "3.7.4"
  }
 },
 "nbformat": 4,
 "nbformat_minor": 2
}
