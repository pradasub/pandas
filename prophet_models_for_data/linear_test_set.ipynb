{
 "cells": [
  {
   "cell_type": "code",
   "execution_count": 3,
   "metadata": {},
   "outputs": [
    {
     "name": "stderr",
     "output_type": "stream",
     "text": [
      "Importing plotly failed. Interactive plots will not work.\n"
     ]
    }
   ],
   "source": [
    "import pyodbc\n",
    "import pandas as pd\n",
    "from fbprophet import Prophet\n",
    "import matplotlib.pyplot as plt\n",
    "import seaborn as sns"
   ]
  },
  {
   "cell_type": "markdown",
   "metadata": {},
   "source": [
    "# Read data"
   ]
  },
  {
   "cell_type": "code",
   "execution_count": 4,
   "metadata": {},
   "outputs": [],
   "source": [
    "cnxn = pyodbc.connect(\"DSN=Dremio Connector\", \n",
    "                      autocommit=True, uid='mark.t.aloi@ey.com', pwd='P@ssword1',\n",
    "                      host = '52.184.245.131', port =31010)"
   ]
  },
  {
   "cell_type": "code",
   "execution_count": 5,
   "metadata": {},
   "outputs": [],
   "source": [
    "cusor = cnxn.cursor()"
   ]
  },
  {
   "cell_type": "code",
   "execution_count": 6,
   "metadata": {},
   "outputs": [],
   "source": [
    "sql = '''\n",
    "    select * from General.\"Report Sources\".\"Return to Work\".\"Covid 19 Update\"\n",
    "'''"
   ]
  },
  {
   "cell_type": "code",
   "execution_count": 7,
   "metadata": {},
   "outputs": [
    {
     "data": {
      "text/plain": [
       "<pyodbc.Cursor at 0x2437fac71b0>"
      ]
     },
     "execution_count": 7,
     "metadata": {},
     "output_type": "execute_result"
    }
   ],
   "source": [
    "cusor.execute(sql)"
   ]
  },
  {
   "cell_type": "code",
   "execution_count": 8,
   "metadata": {},
   "outputs": [],
   "source": [
    "response = cusor.fetchall()"
   ]
  },
  {
   "cell_type": "code",
   "execution_count": 9,
   "metadata": {},
   "outputs": [],
   "source": [
    "data = pd.DataFrame.from_records(response, \n",
    "                                 columns=['state_fips', 'state_name', \n",
    "                                          'county_name', 'area_name', 'lat', \n",
    "                                          'long', 'date', 'cases', 'deaths',\n",
    "                                         'county_fips','id2','population_estimate_2018'])"
   ]
  },
  {
   "cell_type": "code",
   "execution_count": 10,
   "metadata": {
    "scrolled": true
   },
   "outputs": [
    {
     "data": {
      "text/html": [
       "<div>\n",
       "<style scoped>\n",
       "    .dataframe tbody tr th:only-of-type {\n",
       "        vertical-align: middle;\n",
       "    }\n",
       "\n",
       "    .dataframe tbody tr th {\n",
       "        vertical-align: top;\n",
       "    }\n",
       "\n",
       "    .dataframe thead th {\n",
       "        text-align: right;\n",
       "    }\n",
       "</style>\n",
       "<table border=\"1\" class=\"dataframe\">\n",
       "  <thead>\n",
       "    <tr style=\"text-align: right;\">\n",
       "      <th></th>\n",
       "      <th>state_fips</th>\n",
       "      <th>state_name</th>\n",
       "      <th>county_name</th>\n",
       "      <th>area_name</th>\n",
       "      <th>lat</th>\n",
       "      <th>long</th>\n",
       "      <th>date</th>\n",
       "      <th>cases</th>\n",
       "      <th>deaths</th>\n",
       "      <th>county_fips</th>\n",
       "      <th>id2</th>\n",
       "      <th>population_estimate_2018</th>\n",
       "    </tr>\n",
       "  </thead>\n",
       "  <tbody>\n",
       "    <tr>\n",
       "      <th>0</th>\n",
       "      <td>01</td>\n",
       "      <td>Alabama</td>\n",
       "      <td>Franklin County</td>\n",
       "      <td></td>\n",
       "      <td>34.4419892</td>\n",
       "      <td>-87.8428144</td>\n",
       "      <td>2020-03-25</td>\n",
       "      <td>2</td>\n",
       "      <td>0</td>\n",
       "      <td>1059</td>\n",
       "      <td>1059</td>\n",
       "      <td>31363</td>\n",
       "    </tr>\n",
       "    <tr>\n",
       "      <th>1</th>\n",
       "      <td>01</td>\n",
       "      <td>Alabama</td>\n",
       "      <td>Franklin County</td>\n",
       "      <td></td>\n",
       "      <td>34.4419892</td>\n",
       "      <td>-87.8428144</td>\n",
       "      <td>2020-03-26</td>\n",
       "      <td>3</td>\n",
       "      <td>0</td>\n",
       "      <td>1059</td>\n",
       "      <td>1059</td>\n",
       "      <td>31363</td>\n",
       "    </tr>\n",
       "    <tr>\n",
       "      <th>2</th>\n",
       "      <td>01</td>\n",
       "      <td>Alabama</td>\n",
       "      <td>Franklin County</td>\n",
       "      <td></td>\n",
       "      <td>34.4419892</td>\n",
       "      <td>-87.8428144</td>\n",
       "      <td>2020-03-27</td>\n",
       "      <td>3</td>\n",
       "      <td>0</td>\n",
       "      <td>1059</td>\n",
       "      <td>1059</td>\n",
       "      <td>31363</td>\n",
       "    </tr>\n",
       "    <tr>\n",
       "      <th>3</th>\n",
       "      <td>01</td>\n",
       "      <td>Alabama</td>\n",
       "      <td>Franklin County</td>\n",
       "      <td></td>\n",
       "      <td>34.4419892</td>\n",
       "      <td>-87.8428144</td>\n",
       "      <td>2020-03-28</td>\n",
       "      <td>3</td>\n",
       "      <td>0</td>\n",
       "      <td>1059</td>\n",
       "      <td>1059</td>\n",
       "      <td>31363</td>\n",
       "    </tr>\n",
       "    <tr>\n",
       "      <th>4</th>\n",
       "      <td>01</td>\n",
       "      <td>Alabama</td>\n",
       "      <td>Franklin County</td>\n",
       "      <td></td>\n",
       "      <td>34.4419892</td>\n",
       "      <td>-87.8428144</td>\n",
       "      <td>2020-03-29</td>\n",
       "      <td>3</td>\n",
       "      <td>0</td>\n",
       "      <td>1059</td>\n",
       "      <td>1059</td>\n",
       "      <td>31363</td>\n",
       "    </tr>\n",
       "  </tbody>\n",
       "</table>\n",
       "</div>"
      ],
      "text/plain": [
       "  state_fips state_name      county_name area_name         lat         long  \\\n",
       "0         01    Alabama  Franklin County            34.4419892  -87.8428144   \n",
       "1         01    Alabama  Franklin County            34.4419892  -87.8428144   \n",
       "2         01    Alabama  Franklin County            34.4419892  -87.8428144   \n",
       "3         01    Alabama  Franklin County            34.4419892  -87.8428144   \n",
       "4         01    Alabama  Franklin County            34.4419892  -87.8428144   \n",
       "\n",
       "         date cases deaths  county_fips   id2 population_estimate_2018  \n",
       "0  2020-03-25     2      0         1059  1059                    31363  \n",
       "1  2020-03-26     3      0         1059  1059                    31363  \n",
       "2  2020-03-27     3      0         1059  1059                    31363  \n",
       "3  2020-03-28     3      0         1059  1059                    31363  \n",
       "4  2020-03-29     3      0         1059  1059                    31363  "
      ]
     },
     "execution_count": 10,
     "metadata": {},
     "output_type": "execute_result"
    }
   ],
   "source": [
    "data.head()"
   ]
  },
  {
   "cell_type": "code",
   "execution_count": 11,
   "metadata": {},
   "outputs": [],
   "source": [
    "# Remove leading and trailing white spaces\n",
    "data.replace('^\\s+', '', regex=True, inplace=True)\n",
    "data.replace('\\s+$', '', regex=True, inplace=True)"
   ]
  },
  {
   "cell_type": "code",
   "execution_count": 12,
   "metadata": {},
   "outputs": [],
   "source": [
    "data['cases'] = data['cases'].astype(int)\n",
    "data['population_estimate_2018'] = data['population_estimate_2018'].astype(int)\n",
    "data['date'] = pd.to_datetime(data['date'])"
   ]
  },
  {
   "cell_type": "markdown",
   "metadata": {},
   "source": [
    "# County name is not unique - create State-County name"
   ]
  },
  {
   "cell_type": "code",
   "execution_count": 13,
   "metadata": {},
   "outputs": [],
   "source": [
    "data['state_county'] = data['state_name'] + ', ' + data['county_name']"
   ]
  },
  {
   "cell_type": "code",
   "execution_count": 14,
   "metadata": {},
   "outputs": [
    {
     "data": {
      "text/plain": [
       "array(['Franklin County', 'Geneva County', 'Greene County', ...,\n",
       "       'Waupaca County', 'Waushara County', 'Converse County'],\n",
       "      dtype=object)"
      ]
     },
     "execution_count": 14,
     "metadata": {},
     "output_type": "execute_result"
    }
   ],
   "source": [
    "data['county_name'].unique()"
   ]
  },
  {
   "cell_type": "code",
   "execution_count": 17,
   "metadata": {},
   "outputs": [
    {
     "data": {
      "text/plain": [
       "(3176, 1930)"
      ]
     },
     "execution_count": 17,
     "metadata": {},
     "output_type": "execute_result"
    }
   ],
   "source": [
    "data['state_county'].nunique(), data['county_name'].nunique()"
   ]
  },
  {
   "cell_type": "code",
   "execution_count": 18,
   "metadata": {},
   "outputs": [
    {
     "name": "stdout",
     "output_type": "stream",
     "text": [
      "0 0\n"
     ]
    }
   ],
   "source": [
    "print(data['cases'].isna().sum(), data['date'].isna().sum())"
   ]
  },
  {
   "cell_type": "markdown",
   "metadata": {},
   "source": [
    "## Use recent 10 cases to calculate percentage change in cases"
   ]
  },
  {
   "cell_type": "code",
   "execution_count": 19,
   "metadata": {},
   "outputs": [],
   "source": [
    "# lambda x: x[-10:].pct_change().mean()*100)\n",
    "pct_change = data.groupby('state_county').apply(\n",
    "    lambda x: x['cases'][-10:].pct_change().mean()*100).reset_index()\n",
    "pct_change.columns = ['state_county', 'change_trend']"
   ]
  },
  {
   "cell_type": "code",
   "execution_count": 20,
   "metadata": {
    "scrolled": true
   },
   "outputs": [
    {
     "data": {
      "text/html": [
       "<div>\n",
       "<style scoped>\n",
       "    .dataframe tbody tr th:only-of-type {\n",
       "        vertical-align: middle;\n",
       "    }\n",
       "\n",
       "    .dataframe tbody tr th {\n",
       "        vertical-align: top;\n",
       "    }\n",
       "\n",
       "    .dataframe thead th {\n",
       "        text-align: right;\n",
       "    }\n",
       "</style>\n",
       "<table border=\"1\" class=\"dataframe\">\n",
       "  <thead>\n",
       "    <tr style=\"text-align: right;\">\n",
       "      <th></th>\n",
       "      <th>state_county</th>\n",
       "      <th>change_trend</th>\n",
       "    </tr>\n",
       "  </thead>\n",
       "  <tbody>\n",
       "    <tr>\n",
       "      <th>0</th>\n",
       "      <td>Alabama, Autauga County</td>\n",
       "      <td>2.223732</td>\n",
       "    </tr>\n",
       "    <tr>\n",
       "      <th>1</th>\n",
       "      <td>Alabama, Baldwin County</td>\n",
       "      <td>5.793953</td>\n",
       "    </tr>\n",
       "    <tr>\n",
       "      <th>2</th>\n",
       "      <td>Alabama, Barbour County</td>\n",
       "      <td>2.262622</td>\n",
       "    </tr>\n",
       "    <tr>\n",
       "      <th>3</th>\n",
       "      <td>Alabama, Bibb County</td>\n",
       "      <td>2.537120</td>\n",
       "    </tr>\n",
       "    <tr>\n",
       "      <th>4</th>\n",
       "      <td>Alabama, Blount County</td>\n",
       "      <td>5.234042</td>\n",
       "    </tr>\n",
       "  </tbody>\n",
       "</table>\n",
       "</div>"
      ],
      "text/plain": [
       "              state_county  change_trend\n",
       "0  Alabama, Autauga County      2.223732\n",
       "1  Alabama, Baldwin County      5.793953\n",
       "2  Alabama, Barbour County      2.262622\n",
       "3     Alabama, Bibb County      2.537120\n",
       "4   Alabama, Blount County      5.234042"
      ]
     },
     "execution_count": 20,
     "metadata": {},
     "output_type": "execute_result"
    }
   ],
   "source": [
    "pct_change.head()"
   ]
  },
  {
   "cell_type": "markdown",
   "metadata": {},
   "source": [
    "# Define growth"
   ]
  },
  {
   "cell_type": "code",
   "execution_count": 21,
   "metadata": {},
   "outputs": [],
   "source": [
    "def growth(x):\n",
    "    if x > 1 and x <=5:\n",
    "        return \"growth\"\n",
    "    elif x >5 and x<10:\n",
    "        return \"high growth\"\n",
    "    elif x>=10:\n",
    "        return \"very high growth\"\n",
    "    elif x>=-1 and x<=1:\n",
    "        return \"leveling off\"\n",
    "    else:\n",
    "        return \"cases decreasing\""
   ]
  },
  {
   "cell_type": "code",
   "execution_count": 22,
   "metadata": {},
   "outputs": [],
   "source": [
    "pct_change['trend'] = pct_change['change_trend'].apply(growth)"
   ]
  },
  {
   "cell_type": "code",
   "execution_count": 23,
   "metadata": {},
   "outputs": [
    {
     "data": {
      "text/plain": [
       "growth              2028\n",
       "leveling off         678\n",
       "high growth          361\n",
       "very high growth     100\n",
       "cases decreasing       9\n",
       "Name: trend, dtype: int64"
      ]
     },
     "execution_count": 23,
     "metadata": {},
     "output_type": "execute_result"
    }
   ],
   "source": [
    "pct_change.trend.value_counts()"
   ]
  },
  {
   "cell_type": "code",
   "execution_count": 24,
   "metadata": {},
   "outputs": [],
   "source": [
    "prev = len(data)\n",
    "data = data.merge(pct_change, how='left')\n",
    "assert(prev == len(data))"
   ]
  },
  {
   "cell_type": "code",
   "execution_count": 25,
   "metadata": {
    "scrolled": false
   },
   "outputs": [
    {
     "data": {
      "text/html": [
       "<div>\n",
       "<style scoped>\n",
       "    .dataframe tbody tr th:only-of-type {\n",
       "        vertical-align: middle;\n",
       "    }\n",
       "\n",
       "    .dataframe tbody tr th {\n",
       "        vertical-align: top;\n",
       "    }\n",
       "\n",
       "    .dataframe thead th {\n",
       "        text-align: right;\n",
       "    }\n",
       "</style>\n",
       "<table border=\"1\" class=\"dataframe\">\n",
       "  <thead>\n",
       "    <tr style=\"text-align: right;\">\n",
       "      <th></th>\n",
       "      <th>state_fips</th>\n",
       "      <th>state_name</th>\n",
       "      <th>county_name</th>\n",
       "      <th>area_name</th>\n",
       "      <th>lat</th>\n",
       "      <th>long</th>\n",
       "      <th>date</th>\n",
       "      <th>cases</th>\n",
       "      <th>deaths</th>\n",
       "      <th>county_fips</th>\n",
       "      <th>id2</th>\n",
       "      <th>population_estimate_2018</th>\n",
       "      <th>state_county</th>\n",
       "      <th>change_trend</th>\n",
       "      <th>trend</th>\n",
       "    </tr>\n",
       "  </thead>\n",
       "  <tbody>\n",
       "    <tr>\n",
       "      <th>362644</th>\n",
       "      <td>56</td>\n",
       "      <td>Wyoming</td>\n",
       "      <td>Fremont County</td>\n",
       "      <td></td>\n",
       "      <td>43.054831</td>\n",
       "      <td>-108.6089349</td>\n",
       "      <td>2020-07-11</td>\n",
       "      <td>384</td>\n",
       "      <td>9</td>\n",
       "      <td>56013</td>\n",
       "      <td>56013</td>\n",
       "      <td>39531</td>\n",
       "      <td>Wyoming, Fremont County</td>\n",
       "      <td>1.069512</td>\n",
       "      <td>growth</td>\n",
       "    </tr>\n",
       "    <tr>\n",
       "      <th>362645</th>\n",
       "      <td>56</td>\n",
       "      <td>Wyoming</td>\n",
       "      <td>Fremont County</td>\n",
       "      <td></td>\n",
       "      <td>43.054831</td>\n",
       "      <td>-108.6089349</td>\n",
       "      <td>2020-07-12</td>\n",
       "      <td>386</td>\n",
       "      <td>9</td>\n",
       "      <td>56013</td>\n",
       "      <td>56013</td>\n",
       "      <td>39531</td>\n",
       "      <td>Wyoming, Fremont County</td>\n",
       "      <td>1.069512</td>\n",
       "      <td>growth</td>\n",
       "    </tr>\n",
       "    <tr>\n",
       "      <th>362646</th>\n",
       "      <td>56</td>\n",
       "      <td>Wyoming</td>\n",
       "      <td>Fremont County</td>\n",
       "      <td></td>\n",
       "      <td>43.054831</td>\n",
       "      <td>-108.6089349</td>\n",
       "      <td>2020-07-13</td>\n",
       "      <td>387</td>\n",
       "      <td>9</td>\n",
       "      <td>56013</td>\n",
       "      <td>56013</td>\n",
       "      <td>39531</td>\n",
       "      <td>Wyoming, Fremont County</td>\n",
       "      <td>1.069512</td>\n",
       "      <td>growth</td>\n",
       "    </tr>\n",
       "    <tr>\n",
       "      <th>362647</th>\n",
       "      <td>56</td>\n",
       "      <td>Wyoming</td>\n",
       "      <td>Fremont County</td>\n",
       "      <td></td>\n",
       "      <td>43.054831</td>\n",
       "      <td>-108.6089349</td>\n",
       "      <td>2020-07-14</td>\n",
       "      <td>397</td>\n",
       "      <td>9</td>\n",
       "      <td>56013</td>\n",
       "      <td>56013</td>\n",
       "      <td>39531</td>\n",
       "      <td>Wyoming, Fremont County</td>\n",
       "      <td>1.069512</td>\n",
       "      <td>growth</td>\n",
       "    </tr>\n",
       "    <tr>\n",
       "      <th>362648</th>\n",
       "      <td>56</td>\n",
       "      <td>Wyoming</td>\n",
       "      <td>Fremont County</td>\n",
       "      <td></td>\n",
       "      <td>43.054831</td>\n",
       "      <td>-108.6089349</td>\n",
       "      <td>2020-07-15</td>\n",
       "      <td>407</td>\n",
       "      <td>9</td>\n",
       "      <td>56013</td>\n",
       "      <td>56013</td>\n",
       "      <td>39531</td>\n",
       "      <td>Wyoming, Fremont County</td>\n",
       "      <td>1.069512</td>\n",
       "      <td>growth</td>\n",
       "    </tr>\n",
       "  </tbody>\n",
       "</table>\n",
       "</div>"
      ],
      "text/plain": [
       "       state_fips state_name     county_name area_name        lat  \\\n",
       "362644         56    Wyoming  Fremont County            43.054831   \n",
       "362645         56    Wyoming  Fremont County            43.054831   \n",
       "362646         56    Wyoming  Fremont County            43.054831   \n",
       "362647         56    Wyoming  Fremont County            43.054831   \n",
       "362648         56    Wyoming  Fremont County            43.054831   \n",
       "\n",
       "                long       date  cases deaths  county_fips    id2  \\\n",
       "362644  -108.6089349 2020-07-11    384      9        56013  56013   \n",
       "362645  -108.6089349 2020-07-12    386      9        56013  56013   \n",
       "362646  -108.6089349 2020-07-13    387      9        56013  56013   \n",
       "362647  -108.6089349 2020-07-14    397      9        56013  56013   \n",
       "362648  -108.6089349 2020-07-15    407      9        56013  56013   \n",
       "\n",
       "        population_estimate_2018             state_county  change_trend  \\\n",
       "362644                     39531  Wyoming, Fremont County      1.069512   \n",
       "362645                     39531  Wyoming, Fremont County      1.069512   \n",
       "362646                     39531  Wyoming, Fremont County      1.069512   \n",
       "362647                     39531  Wyoming, Fremont County      1.069512   \n",
       "362648                     39531  Wyoming, Fremont County      1.069512   \n",
       "\n",
       "         trend  \n",
       "362644  growth  \n",
       "362645  growth  \n",
       "362646  growth  \n",
       "362647  growth  \n",
       "362648  growth  "
      ]
     },
     "execution_count": 25,
     "metadata": {},
     "output_type": "execute_result"
    }
   ],
   "source": [
    "data.tail()"
   ]
  },
  {
   "cell_type": "markdown",
   "metadata": {},
   "source": [
    "# Calculate current cases per hundred thousand population"
   ]
  },
  {
   "cell_type": "code",
   "execution_count": 26,
   "metadata": {},
   "outputs": [],
   "source": [
    "# number of cases per hundred thousand population\n",
    "data['cases_per_hud_thousand'] = data['cases']/data['population_estimate_2018'] *100000"
   ]
  },
  {
   "cell_type": "code",
   "execution_count": 27,
   "metadata": {
    "scrolled": true
   },
   "outputs": [
    {
     "data": {
      "text/html": [
       "<div>\n",
       "<style scoped>\n",
       "    .dataframe tbody tr th:only-of-type {\n",
       "        vertical-align: middle;\n",
       "    }\n",
       "\n",
       "    .dataframe tbody tr th {\n",
       "        vertical-align: top;\n",
       "    }\n",
       "\n",
       "    .dataframe thead th {\n",
       "        text-align: right;\n",
       "    }\n",
       "</style>\n",
       "<table border=\"1\" class=\"dataframe\">\n",
       "  <thead>\n",
       "    <tr style=\"text-align: right;\">\n",
       "      <th></th>\n",
       "      <th>state_fips</th>\n",
       "      <th>state_name</th>\n",
       "      <th>county_name</th>\n",
       "      <th>area_name</th>\n",
       "      <th>lat</th>\n",
       "      <th>long</th>\n",
       "      <th>date</th>\n",
       "      <th>cases</th>\n",
       "      <th>deaths</th>\n",
       "      <th>county_fips</th>\n",
       "      <th>id2</th>\n",
       "      <th>population_estimate_2018</th>\n",
       "      <th>state_county</th>\n",
       "      <th>change_trend</th>\n",
       "      <th>trend</th>\n",
       "      <th>cases_per_hud_thousand</th>\n",
       "    </tr>\n",
       "  </thead>\n",
       "  <tbody>\n",
       "    <tr>\n",
       "      <th>0</th>\n",
       "      <td>01</td>\n",
       "      <td>Alabama</td>\n",
       "      <td>Franklin County</td>\n",
       "      <td></td>\n",
       "      <td>34.4419892</td>\n",
       "      <td>-87.8428144</td>\n",
       "      <td>2020-03-25</td>\n",
       "      <td>2</td>\n",
       "      <td>0</td>\n",
       "      <td>1059</td>\n",
       "      <td>1059</td>\n",
       "      <td>31363</td>\n",
       "      <td>Alabama, Franklin County</td>\n",
       "      <td>-10.335184</td>\n",
       "      <td>cases decreasing</td>\n",
       "      <td>6.376941</td>\n",
       "    </tr>\n",
       "    <tr>\n",
       "      <th>1</th>\n",
       "      <td>01</td>\n",
       "      <td>Alabama</td>\n",
       "      <td>Franklin County</td>\n",
       "      <td></td>\n",
       "      <td>34.4419892</td>\n",
       "      <td>-87.8428144</td>\n",
       "      <td>2020-03-26</td>\n",
       "      <td>3</td>\n",
       "      <td>0</td>\n",
       "      <td>1059</td>\n",
       "      <td>1059</td>\n",
       "      <td>31363</td>\n",
       "      <td>Alabama, Franklin County</td>\n",
       "      <td>-10.335184</td>\n",
       "      <td>cases decreasing</td>\n",
       "      <td>9.565411</td>\n",
       "    </tr>\n",
       "    <tr>\n",
       "      <th>2</th>\n",
       "      <td>01</td>\n",
       "      <td>Alabama</td>\n",
       "      <td>Franklin County</td>\n",
       "      <td></td>\n",
       "      <td>34.4419892</td>\n",
       "      <td>-87.8428144</td>\n",
       "      <td>2020-03-27</td>\n",
       "      <td>3</td>\n",
       "      <td>0</td>\n",
       "      <td>1059</td>\n",
       "      <td>1059</td>\n",
       "      <td>31363</td>\n",
       "      <td>Alabama, Franklin County</td>\n",
       "      <td>-10.335184</td>\n",
       "      <td>cases decreasing</td>\n",
       "      <td>9.565411</td>\n",
       "    </tr>\n",
       "    <tr>\n",
       "      <th>3</th>\n",
       "      <td>01</td>\n",
       "      <td>Alabama</td>\n",
       "      <td>Franklin County</td>\n",
       "      <td></td>\n",
       "      <td>34.4419892</td>\n",
       "      <td>-87.8428144</td>\n",
       "      <td>2020-03-28</td>\n",
       "      <td>3</td>\n",
       "      <td>0</td>\n",
       "      <td>1059</td>\n",
       "      <td>1059</td>\n",
       "      <td>31363</td>\n",
       "      <td>Alabama, Franklin County</td>\n",
       "      <td>-10.335184</td>\n",
       "      <td>cases decreasing</td>\n",
       "      <td>9.565411</td>\n",
       "    </tr>\n",
       "    <tr>\n",
       "      <th>4</th>\n",
       "      <td>01</td>\n",
       "      <td>Alabama</td>\n",
       "      <td>Franklin County</td>\n",
       "      <td></td>\n",
       "      <td>34.4419892</td>\n",
       "      <td>-87.8428144</td>\n",
       "      <td>2020-03-29</td>\n",
       "      <td>3</td>\n",
       "      <td>0</td>\n",
       "      <td>1059</td>\n",
       "      <td>1059</td>\n",
       "      <td>31363</td>\n",
       "      <td>Alabama, Franklin County</td>\n",
       "      <td>-10.335184</td>\n",
       "      <td>cases decreasing</td>\n",
       "      <td>9.565411</td>\n",
       "    </tr>\n",
       "  </tbody>\n",
       "</table>\n",
       "</div>"
      ],
      "text/plain": [
       "  state_fips state_name      county_name area_name         lat         long  \\\n",
       "0         01    Alabama  Franklin County            34.4419892  -87.8428144   \n",
       "1         01    Alabama  Franklin County            34.4419892  -87.8428144   \n",
       "2         01    Alabama  Franklin County            34.4419892  -87.8428144   \n",
       "3         01    Alabama  Franklin County            34.4419892  -87.8428144   \n",
       "4         01    Alabama  Franklin County            34.4419892  -87.8428144   \n",
       "\n",
       "        date  cases deaths  county_fips   id2  population_estimate_2018  \\\n",
       "0 2020-03-25      2      0         1059  1059                     31363   \n",
       "1 2020-03-26      3      0         1059  1059                     31363   \n",
       "2 2020-03-27      3      0         1059  1059                     31363   \n",
       "3 2020-03-28      3      0         1059  1059                     31363   \n",
       "4 2020-03-29      3      0         1059  1059                     31363   \n",
       "\n",
       "               state_county  change_trend             trend  \\\n",
       "0  Alabama, Franklin County    -10.335184  cases decreasing   \n",
       "1  Alabama, Franklin County    -10.335184  cases decreasing   \n",
       "2  Alabama, Franklin County    -10.335184  cases decreasing   \n",
       "3  Alabama, Franklin County    -10.335184  cases decreasing   \n",
       "4  Alabama, Franklin County    -10.335184  cases decreasing   \n",
       "\n",
       "   cases_per_hud_thousand  \n",
       "0                6.376941  \n",
       "1                9.565411  \n",
       "2                9.565411  \n",
       "3                9.565411  \n",
       "4                9.565411  "
      ]
     },
     "execution_count": 27,
     "metadata": {},
     "output_type": "execute_result"
    }
   ],
   "source": [
    "data.head()"
   ]
  },
  {
   "cell_type": "code",
   "execution_count": 28,
   "metadata": {},
   "outputs": [],
   "source": [
    "# taking the mean of last two cases to calculate current cases per hundred thousand population\n",
    "cases_thou = data.groupby('state_county').apply(\n",
    "    lambda x: x['cases_per_hud_thousand'][-2:].mean()).reset_index()"
   ]
  },
  {
   "cell_type": "code",
   "execution_count": 30,
   "metadata": {},
   "outputs": [],
   "source": [
    "cases_thou.columns = ['state_county', 'current_cases_per_hund_thou']"
   ]
  },
  {
   "cell_type": "code",
   "execution_count": 31,
   "metadata": {},
   "outputs": [],
   "source": [
    "quartiles = cases_thou['current_cases_per_hund_thou'].quantile([0.25, 0.75], interpolation='nearest')\n",
    "q1 = list(quartiles)[0]\n",
    "q2 = list(quartiles)[1]\n",
    "med = cases_thou['current_cases_per_hund_thou'].median()"
   ]
  },
  {
   "cell_type": "code",
   "execution_count": 32,
   "metadata": {},
   "outputs": [],
   "source": [
    "# defining high and low cases based on the quartiles\n",
    "def cases_thousands(x):\n",
    "    if x > q2:\n",
    "        return 'very high cases'\n",
    "    elif x>med and x<q2:\n",
    "        return 'high cases'\n",
    "    elif x<med and x>q1:\n",
    "        return 'relatively low cases'\n",
    "    else:\n",
    "        return 'relatively very low cases'"
   ]
  },
  {
   "cell_type": "code",
   "execution_count": 33,
   "metadata": {},
   "outputs": [],
   "source": [
    "cases_thou['current_number_cases_category'] = cases_thou['current_cases_per_hund_thou'].apply(cases_thousands)"
   ]
  },
  {
   "cell_type": "code",
   "execution_count": 34,
   "metadata": {},
   "outputs": [
    {
     "data": {
      "text/html": [
       "<div>\n",
       "<style scoped>\n",
       "    .dataframe tbody tr th:only-of-type {\n",
       "        vertical-align: middle;\n",
       "    }\n",
       "\n",
       "    .dataframe tbody tr th {\n",
       "        vertical-align: top;\n",
       "    }\n",
       "\n",
       "    .dataframe thead th {\n",
       "        text-align: right;\n",
       "    }\n",
       "</style>\n",
       "<table border=\"1\" class=\"dataframe\">\n",
       "  <thead>\n",
       "    <tr style=\"text-align: right;\">\n",
       "      <th></th>\n",
       "      <th>state_county</th>\n",
       "      <th>current_cases_per_hund_thou</th>\n",
       "      <th>current_number_cases_category</th>\n",
       "    </tr>\n",
       "  </thead>\n",
       "  <tbody>\n",
       "    <tr>\n",
       "      <th>0</th>\n",
       "      <td>Alabama, Autauga County</td>\n",
       "      <td>1642.056798</td>\n",
       "      <td>very high cases</td>\n",
       "    </tr>\n",
       "    <tr>\n",
       "      <th>1</th>\n",
       "      <td>Alabama, Baldwin County</td>\n",
       "      <td>1140.710570</td>\n",
       "      <td>very high cases</td>\n",
       "    </tr>\n",
       "    <tr>\n",
       "      <th>2</th>\n",
       "      <td>Alabama, Barbour County</td>\n",
       "      <td>2156.263816</td>\n",
       "      <td>very high cases</td>\n",
       "    </tr>\n",
       "    <tr>\n",
       "      <th>3</th>\n",
       "      <td>Alabama, Bibb County</td>\n",
       "      <td>1321.428571</td>\n",
       "      <td>very high cases</td>\n",
       "    </tr>\n",
       "    <tr>\n",
       "      <th>4</th>\n",
       "      <td>Alabama, Blount County</td>\n",
       "      <td>1037.344398</td>\n",
       "      <td>high cases</td>\n",
       "    </tr>\n",
       "  </tbody>\n",
       "</table>\n",
       "</div>"
      ],
      "text/plain": [
       "              state_county  current_cases_per_hund_thou  \\\n",
       "0  Alabama, Autauga County                  1642.056798   \n",
       "1  Alabama, Baldwin County                  1140.710570   \n",
       "2  Alabama, Barbour County                  2156.263816   \n",
       "3     Alabama, Bibb County                  1321.428571   \n",
       "4   Alabama, Blount County                  1037.344398   \n",
       "\n",
       "  current_number_cases_category  \n",
       "0               very high cases  \n",
       "1               very high cases  \n",
       "2               very high cases  \n",
       "3               very high cases  \n",
       "4                    high cases  "
      ]
     },
     "execution_count": 34,
     "metadata": {},
     "output_type": "execute_result"
    }
   ],
   "source": [
    "cases_thou.head()"
   ]
  },
  {
   "cell_type": "code",
   "execution_count": 35,
   "metadata": {},
   "outputs": [
    {
     "data": {
      "text/plain": [
       "relatively very low cases    796\n",
       "very high cases              794\n",
       "relatively low cases         793\n",
       "high cases                   793\n",
       "Name: current_number_cases_category, dtype: int64"
      ]
     },
     "execution_count": 35,
     "metadata": {},
     "output_type": "execute_result"
    }
   ],
   "source": [
    "cases_thou.current_number_cases_category.value_counts()"
   ]
  },
  {
   "cell_type": "code",
   "execution_count": 40,
   "metadata": {},
   "outputs": [
    {
     "data": {
      "text/html": [
       "<div>\n",
       "<style scoped>\n",
       "    .dataframe tbody tr th:only-of-type {\n",
       "        vertical-align: middle;\n",
       "    }\n",
       "\n",
       "    .dataframe tbody tr th {\n",
       "        vertical-align: top;\n",
       "    }\n",
       "\n",
       "    .dataframe thead th {\n",
       "        text-align: right;\n",
       "    }\n",
       "</style>\n",
       "<table border=\"1\" class=\"dataframe\">\n",
       "  <thead>\n",
       "    <tr style=\"text-align: right;\">\n",
       "      <th></th>\n",
       "      <th>state_county</th>\n",
       "      <th>current_cases_per_hund_thou</th>\n",
       "      <th>current_number_cases_category</th>\n",
       "    </tr>\n",
       "  </thead>\n",
       "  <tbody>\n",
       "    <tr>\n",
       "      <th>29</th>\n",
       "      <td>Alabama, Franklin County</td>\n",
       "      <td>3.188470</td>\n",
       "      <td>relatively very low cases</td>\n",
       "    </tr>\n",
       "    <tr>\n",
       "      <th>67</th>\n",
       "      <td>Alaska, Aleutians East Borough</td>\n",
       "      <td>85.348506</td>\n",
       "      <td>relatively very low cases</td>\n",
       "    </tr>\n",
       "    <tr>\n",
       "      <th>70</th>\n",
       "      <td>Alaska, Bethel Census Area</td>\n",
       "      <td>107.048748</td>\n",
       "      <td>relatively very low cases</td>\n",
       "    </tr>\n",
       "    <tr>\n",
       "      <th>72</th>\n",
       "      <td>Alaska, Denali Borough</td>\n",
       "      <td>145.701797</td>\n",
       "      <td>relatively very low cases</td>\n",
       "    </tr>\n",
       "    <tr>\n",
       "      <th>79</th>\n",
       "      <td>Alaska, Kodiak Island Borough</td>\n",
       "      <td>104.908205</td>\n",
       "      <td>relatively very low cases</td>\n",
       "    </tr>\n",
       "  </tbody>\n",
       "</table>\n",
       "</div>"
      ],
      "text/plain": [
       "                      state_county  current_cases_per_hund_thou  \\\n",
       "29        Alabama, Franklin County                     3.188470   \n",
       "67  Alaska, Aleutians East Borough                    85.348506   \n",
       "70      Alaska, Bethel Census Area                   107.048748   \n",
       "72          Alaska, Denali Borough                   145.701797   \n",
       "79   Alaska, Kodiak Island Borough                   104.908205   \n",
       "\n",
       "   current_number_cases_category  \n",
       "29     relatively very low cases  \n",
       "67     relatively very low cases  \n",
       "70     relatively very low cases  \n",
       "72     relatively very low cases  \n",
       "79     relatively very low cases  "
      ]
     },
     "execution_count": 40,
     "metadata": {},
     "output_type": "execute_result"
    }
   ],
   "source": [
    "cases_thou[cases_thou.current_number_cases_category=='relatively very low cases'].head()"
   ]
  },
  {
   "cell_type": "code",
   "execution_count": 42,
   "metadata": {},
   "outputs": [],
   "source": [
    "prev = len(data)\n",
    "data = data.merge(cases_thou, how='left')\n",
    "assert(prev == len(data))"
   ]
  },
  {
   "cell_type": "code",
   "execution_count": 44,
   "metadata": {},
   "outputs": [
    {
     "data": {
      "text/html": [
       "<div>\n",
       "<style scoped>\n",
       "    .dataframe tbody tr th:only-of-type {\n",
       "        vertical-align: middle;\n",
       "    }\n",
       "\n",
       "    .dataframe tbody tr th {\n",
       "        vertical-align: top;\n",
       "    }\n",
       "\n",
       "    .dataframe thead th {\n",
       "        text-align: right;\n",
       "    }\n",
       "</style>\n",
       "<table border=\"1\" class=\"dataframe\">\n",
       "  <thead>\n",
       "    <tr style=\"text-align: right;\">\n",
       "      <th></th>\n",
       "      <th>state_fips</th>\n",
       "      <th>state_name</th>\n",
       "      <th>county_name</th>\n",
       "      <th>area_name</th>\n",
       "      <th>lat</th>\n",
       "      <th>long</th>\n",
       "      <th>date</th>\n",
       "      <th>cases</th>\n",
       "      <th>deaths</th>\n",
       "      <th>county_fips</th>\n",
       "      <th>id2</th>\n",
       "      <th>population_estimate_2018</th>\n",
       "      <th>state_county</th>\n",
       "      <th>change_trend</th>\n",
       "      <th>trend</th>\n",
       "      <th>cases_per_hud_thousand</th>\n",
       "      <th>current_cases_per_hund_thou</th>\n",
       "      <th>current_number_cases_category</th>\n",
       "    </tr>\n",
       "  </thead>\n",
       "  <tbody>\n",
       "    <tr>\n",
       "      <th>362644</th>\n",
       "      <td>56</td>\n",
       "      <td>Wyoming</td>\n",
       "      <td>Fremont County</td>\n",
       "      <td></td>\n",
       "      <td>43.054831</td>\n",
       "      <td>-108.6089349</td>\n",
       "      <td>2020-07-11</td>\n",
       "      <td>384</td>\n",
       "      <td>9</td>\n",
       "      <td>56013</td>\n",
       "      <td>56013</td>\n",
       "      <td>39531</td>\n",
       "      <td>Wyoming, Fremont County</td>\n",
       "      <td>1.069512</td>\n",
       "      <td>growth</td>\n",
       "      <td>971.389542</td>\n",
       "      <td>1016.923427</td>\n",
       "      <td>high cases</td>\n",
       "    </tr>\n",
       "    <tr>\n",
       "      <th>362645</th>\n",
       "      <td>56</td>\n",
       "      <td>Wyoming</td>\n",
       "      <td>Fremont County</td>\n",
       "      <td></td>\n",
       "      <td>43.054831</td>\n",
       "      <td>-108.6089349</td>\n",
       "      <td>2020-07-12</td>\n",
       "      <td>386</td>\n",
       "      <td>9</td>\n",
       "      <td>56013</td>\n",
       "      <td>56013</td>\n",
       "      <td>39531</td>\n",
       "      <td>Wyoming, Fremont County</td>\n",
       "      <td>1.069512</td>\n",
       "      <td>growth</td>\n",
       "      <td>976.448863</td>\n",
       "      <td>1016.923427</td>\n",
       "      <td>high cases</td>\n",
       "    </tr>\n",
       "    <tr>\n",
       "      <th>362646</th>\n",
       "      <td>56</td>\n",
       "      <td>Wyoming</td>\n",
       "      <td>Fremont County</td>\n",
       "      <td></td>\n",
       "      <td>43.054831</td>\n",
       "      <td>-108.6089349</td>\n",
       "      <td>2020-07-13</td>\n",
       "      <td>387</td>\n",
       "      <td>9</td>\n",
       "      <td>56013</td>\n",
       "      <td>56013</td>\n",
       "      <td>39531</td>\n",
       "      <td>Wyoming, Fremont County</td>\n",
       "      <td>1.069512</td>\n",
       "      <td>growth</td>\n",
       "      <td>978.978523</td>\n",
       "      <td>1016.923427</td>\n",
       "      <td>high cases</td>\n",
       "    </tr>\n",
       "    <tr>\n",
       "      <th>362647</th>\n",
       "      <td>56</td>\n",
       "      <td>Wyoming</td>\n",
       "      <td>Fremont County</td>\n",
       "      <td></td>\n",
       "      <td>43.054831</td>\n",
       "      <td>-108.6089349</td>\n",
       "      <td>2020-07-14</td>\n",
       "      <td>397</td>\n",
       "      <td>9</td>\n",
       "      <td>56013</td>\n",
       "      <td>56013</td>\n",
       "      <td>39531</td>\n",
       "      <td>Wyoming, Fremont County</td>\n",
       "      <td>1.069512</td>\n",
       "      <td>growth</td>\n",
       "      <td>1004.275126</td>\n",
       "      <td>1016.923427</td>\n",
       "      <td>high cases</td>\n",
       "    </tr>\n",
       "    <tr>\n",
       "      <th>362648</th>\n",
       "      <td>56</td>\n",
       "      <td>Wyoming</td>\n",
       "      <td>Fremont County</td>\n",
       "      <td></td>\n",
       "      <td>43.054831</td>\n",
       "      <td>-108.6089349</td>\n",
       "      <td>2020-07-15</td>\n",
       "      <td>407</td>\n",
       "      <td>9</td>\n",
       "      <td>56013</td>\n",
       "      <td>56013</td>\n",
       "      <td>39531</td>\n",
       "      <td>Wyoming, Fremont County</td>\n",
       "      <td>1.069512</td>\n",
       "      <td>growth</td>\n",
       "      <td>1029.571729</td>\n",
       "      <td>1016.923427</td>\n",
       "      <td>high cases</td>\n",
       "    </tr>\n",
       "  </tbody>\n",
       "</table>\n",
       "</div>"
      ],
      "text/plain": [
       "       state_fips state_name     county_name area_name        lat  \\\n",
       "362644         56    Wyoming  Fremont County            43.054831   \n",
       "362645         56    Wyoming  Fremont County            43.054831   \n",
       "362646         56    Wyoming  Fremont County            43.054831   \n",
       "362647         56    Wyoming  Fremont County            43.054831   \n",
       "362648         56    Wyoming  Fremont County            43.054831   \n",
       "\n",
       "                long       date  cases deaths  county_fips    id2  \\\n",
       "362644  -108.6089349 2020-07-11    384      9        56013  56013   \n",
       "362645  -108.6089349 2020-07-12    386      9        56013  56013   \n",
       "362646  -108.6089349 2020-07-13    387      9        56013  56013   \n",
       "362647  -108.6089349 2020-07-14    397      9        56013  56013   \n",
       "362648  -108.6089349 2020-07-15    407      9        56013  56013   \n",
       "\n",
       "        population_estimate_2018             state_county  change_trend  \\\n",
       "362644                     39531  Wyoming, Fremont County      1.069512   \n",
       "362645                     39531  Wyoming, Fremont County      1.069512   \n",
       "362646                     39531  Wyoming, Fremont County      1.069512   \n",
       "362647                     39531  Wyoming, Fremont County      1.069512   \n",
       "362648                     39531  Wyoming, Fremont County      1.069512   \n",
       "\n",
       "         trend  cases_per_hud_thousand  current_cases_per_hund_thou  \\\n",
       "362644  growth              971.389542                  1016.923427   \n",
       "362645  growth              976.448863                  1016.923427   \n",
       "362646  growth              978.978523                  1016.923427   \n",
       "362647  growth             1004.275126                  1016.923427   \n",
       "362648  growth             1029.571729                  1016.923427   \n",
       "\n",
       "       current_number_cases_category  \n",
       "362644                    high cases  \n",
       "362645                    high cases  \n",
       "362646                    high cases  \n",
       "362647                    high cases  \n",
       "362648                    high cases  "
      ]
     },
     "execution_count": 44,
     "metadata": {},
     "output_type": "execute_result"
    }
   ],
   "source": [
    "data.tail()"
   ]
  },
  {
   "cell_type": "markdown",
   "metadata": {},
   "source": [
    "# Shuffle counties"
   ]
  },
  {
   "cell_type": "code",
   "execution_count": 46,
   "metadata": {
    "scrolled": false
   },
   "outputs": [],
   "source": [
    "all_state_county = list(data['state_county'].unique())"
   ]
  },
  {
   "cell_type": "code",
   "execution_count": 47,
   "metadata": {},
   "outputs": [],
   "source": [
    "import random\n",
    "random.shuffle(all_state_county)"
   ]
  },
  {
   "cell_type": "code",
   "execution_count": 48,
   "metadata": {},
   "outputs": [],
   "source": [
    "all_state_county = all_state_county[0:20]"
   ]
  },
  {
   "cell_type": "code",
   "execution_count": 49,
   "metadata": {},
   "outputs": [
    {
     "data": {
      "text/plain": [
       "['Texas, Dimmit County',\n",
       " 'New Mexico, Luna County',\n",
       " 'New Jersey, Hunterdon County',\n",
       " 'California, San Luis Obispo County',\n",
       " 'Nebraska, Otoe County',\n",
       " 'Nevada, Washoe County',\n",
       " 'Texas, Archer County',\n",
       " 'Texas, Deaf Smith County',\n",
       " 'Georgia, Jasper County',\n",
       " 'Michigan, Isabella County',\n",
       " 'Georgia, Jones County',\n",
       " 'Florida, Calhoun County',\n",
       " 'Nebraska, Valley County',\n",
       " 'West Virginia, Boone County',\n",
       " 'North Carolina, Craven County',\n",
       " 'Minnesota, Redwood County',\n",
       " 'Michigan, Alpena County',\n",
       " 'Arizona, Pima County',\n",
       " 'Iowa, Butler County',\n",
       " 'Michigan, Calhoun County']"
      ]
     },
     "execution_count": 49,
     "metadata": {},
     "output_type": "execute_result"
    }
   ],
   "source": [
    "all_state_county = ['Texas, Dimmit County',\n",
    " 'New Mexico, Luna County',\n",
    " 'New Jersey, Hunterdon County',\n",
    " 'California, San Luis Obispo County',\n",
    " 'Nebraska, Otoe County',\n",
    " 'Nevada, Washoe County',\n",
    " 'Texas, Archer County',\n",
    " 'Texas, Deaf Smith County',\n",
    " 'Georgia, Jasper County',\n",
    " 'Michigan, Isabella County',\n",
    " 'Georgia, Jones County',\n",
    " 'Florida, Calhoun County',\n",
    " 'Nebraska, Valley County',\n",
    " 'West Virginia, Boone County',\n",
    " 'North Carolina, Craven County',\n",
    " 'Minnesota, Redwood County',\n",
    " 'Michigan, Alpena County',\n",
    " 'Arizona, Pima County',\n",
    " 'Iowa, Butler County',\n",
    " 'Michigan, Calhoun County']"
   ]
  },
  {
   "cell_type": "markdown",
   "metadata": {},
   "source": [
    "# Check time series with one county"
   ]
  },
  {
   "cell_type": "code",
   "execution_count": 50,
   "metadata": {},
   "outputs": [],
   "source": [
    "ts = data[data['state_county']==all_state_county[0]].copy()"
   ]
  },
  {
   "cell_type": "code",
   "execution_count": 51,
   "metadata": {},
   "outputs": [],
   "source": [
    "county_name =  all_state_county[9]\n",
    "ts = data[data['state_county']==county_name].copy()\n",
    "ts = ts[['date', 'cases']].copy()\n",
    "ts.date = pd.to_datetime(ts.date)\n",
    "#ts = ts.set_index(['date'])\n",
    "ts.cases = ts.cases.astype(int)"
   ]
  },
  {
   "cell_type": "code",
   "execution_count": 52,
   "metadata": {},
   "outputs": [
    {
     "data": {
      "text/plain": [
       "'Michigan, Isabella County'"
      ]
     },
     "execution_count": 52,
     "metadata": {},
     "output_type": "execute_result"
    }
   ],
   "source": [
    "all_state_county[9]"
   ]
  },
  {
   "cell_type": "code",
   "execution_count": 53,
   "metadata": {},
   "outputs": [
    {
     "data": {
      "text/plain": [
       "<matplotlib.axes._subplots.AxesSubplot at 0x2431ae80848>"
      ]
     },
     "execution_count": 53,
     "metadata": {},
     "output_type": "execute_result"
    },
    {
     "data": {
      "image/png": "[encoded data removed]",
      "text/plain": [
       "<Figure size 432x288 with 1 Axes>"
      ]
     },
     "metadata": {
      "needs_background": "light"
     },
     "output_type": "display_data"
    }
   ],
   "source": [
    "ts_check = ts.set_index('date')\n",
    "ts_check.plot()"
   ]
  },
  {
   "cell_type": "code",
   "execution_count": 54,
   "metadata": {},
   "outputs": [
    {
     "data": {
      "text/html": [
       "<div>\n",
       "<style scoped>\n",
       "    .dataframe tbody tr th:only-of-type {\n",
       "        vertical-align: middle;\n",
       "    }\n",
       "\n",
       "    .dataframe tbody tr th {\n",
       "        vertical-align: top;\n",
       "    }\n",
       "\n",
       "    .dataframe thead th {\n",
       "        text-align: right;\n",
       "    }\n",
       "</style>\n",
       "<table border=\"1\" class=\"dataframe\">\n",
       "  <thead>\n",
       "    <tr style=\"text-align: right;\">\n",
       "      <th></th>\n",
       "      <th>date</th>\n",
       "      <th>cases</th>\n",
       "    </tr>\n",
       "  </thead>\n",
       "  <tbody>\n",
       "    <tr>\n",
       "      <th>153321</th>\n",
       "      <td>2020-07-20</td>\n",
       "      <td>184</td>\n",
       "    </tr>\n",
       "    <tr>\n",
       "      <th>153322</th>\n",
       "      <td>2020-07-21</td>\n",
       "      <td>185</td>\n",
       "    </tr>\n",
       "    <tr>\n",
       "      <th>153323</th>\n",
       "      <td>2020-07-22</td>\n",
       "      <td>186</td>\n",
       "    </tr>\n",
       "    <tr>\n",
       "      <th>153324</th>\n",
       "      <td>2020-07-23</td>\n",
       "      <td>188</td>\n",
       "    </tr>\n",
       "    <tr>\n",
       "      <th>153325</th>\n",
       "      <td>2020-07-24</td>\n",
       "      <td>191</td>\n",
       "    </tr>\n",
       "  </tbody>\n",
       "</table>\n",
       "</div>"
      ],
      "text/plain": [
       "             date  cases\n",
       "153321 2020-07-20    184\n",
       "153322 2020-07-21    185\n",
       "153323 2020-07-22    186\n",
       "153324 2020-07-23    188\n",
       "153325 2020-07-24    191"
      ]
     },
     "execution_count": 54,
     "metadata": {},
     "output_type": "execute_result"
    }
   ],
   "source": [
    "ts.tail()"
   ]
  },
  {
   "cell_type": "markdown",
   "metadata": {},
   "source": [
    "# Prophet model"
   ]
  },
  {
   "cell_type": "code",
   "execution_count": 55,
   "metadata": {
    "scrolled": true
   },
   "outputs": [
    {
     "name": "stderr",
     "output_type": "stream",
     "text": [
      "INFO:fbprophet:Disabling yearly seasonality. Run prophet with yearly_seasonality=True to override this.\n",
      "INFO:fbprophet:Disabling daily seasonality. Run prophet with daily_seasonality=True to override this.\n",
      "INFO:fbprophet:Disabling yearly seasonality. Run prophet with yearly_seasonality=True to override this.\n",
      "INFO:fbprophet:Disabling daily seasonality. Run prophet with daily_seasonality=True to override this.\n",
      "INFO:fbprophet:Disabling yearly seasonality. Run prophet with yearly_seasonality=True to override this.\n",
      "INFO:fbprophet:Disabling daily seasonality. Run prophet with daily_seasonality=True to override this.\n",
      "INFO:fbprophet:Disabling yearly seasonality. Run prophet with yearly_seasonality=True to override this.\n",
      "INFO:fbprophet:Disabling daily seasonality. Run prophet with daily_seasonality=True to override this.\n",
      "INFO:fbprophet:Disabling yearly seasonality. Run prophet with yearly_seasonality=True to override this.\n",
      "INFO:fbprophet:Disabling daily seasonality. Run prophet with daily_seasonality=True to override this.\n",
      "INFO:fbprophet:Disabling yearly seasonality. Run prophet with yearly_seasonality=True to override this.\n",
      "INFO:fbprophet:Disabling daily seasonality. Run prophet with daily_seasonality=True to override this.\n",
      "INFO:fbprophet:Disabling yearly seasonality. Run prophet with yearly_seasonality=True to override this.\n",
      "INFO:fbprophet:Disabling daily seasonality. Run prophet with daily_seasonality=True to override this.\n",
      "INFO:fbprophet:Disabling yearly seasonality. Run prophet with yearly_seasonality=True to override this.\n",
      "INFO:fbprophet:Disabling daily seasonality. Run prophet with daily_seasonality=True to override this.\n",
      "INFO:fbprophet:Disabling yearly seasonality. Run prophet with yearly_seasonality=True to override this.\n",
      "INFO:fbprophet:Disabling daily seasonality. Run prophet with daily_seasonality=True to override this.\n",
      "INFO:fbprophet:Disabling yearly seasonality. Run prophet with yearly_seasonality=True to override this.\n",
      "INFO:fbprophet:Disabling daily seasonality. Run prophet with daily_seasonality=True to override this.\n",
      "INFO:fbprophet:Disabling yearly seasonality. Run prophet with yearly_seasonality=True to override this.\n",
      "INFO:fbprophet:Disabling daily seasonality. Run prophet with daily_seasonality=True to override this.\n",
      "INFO:fbprophet:Disabling yearly seasonality. Run prophet with yearly_seasonality=True to override this.\n",
      "INFO:fbprophet:Disabling daily seasonality. Run prophet with daily_seasonality=True to override this.\n",
      "INFO:fbprophet:Disabling yearly seasonality. Run prophet with yearly_seasonality=True to override this.\n",
      "INFO:fbprophet:Disabling daily seasonality. Run prophet with daily_seasonality=True to override this.\n",
      "INFO:fbprophet:Disabling yearly seasonality. Run prophet with yearly_seasonality=True to override this.\n",
      "INFO:fbprophet:Disabling daily seasonality. Run prophet with daily_seasonality=True to override this.\n",
      "INFO:fbprophet:Disabling yearly seasonality. Run prophet with yearly_seasonality=True to override this.\n",
      "INFO:fbprophet:Disabling daily seasonality. Run prophet with daily_seasonality=True to override this.\n",
      "INFO:fbprophet:Disabling yearly seasonality. Run prophet with yearly_seasonality=True to override this.\n",
      "INFO:fbprophet:Disabling daily seasonality. Run prophet with daily_seasonality=True to override this.\n",
      "INFO:fbprophet:Disabling yearly seasonality. Run prophet with yearly_seasonality=True to override this.\n",
      "INFO:fbprophet:Disabling daily seasonality. Run prophet with daily_seasonality=True to override this.\n",
      "INFO:fbprophet:Disabling yearly seasonality. Run prophet with yearly_seasonality=True to override this.\n",
      "INFO:fbprophet:Disabling daily seasonality. Run prophet with daily_seasonality=True to override this.\n",
      "INFO:fbprophet:Disabling yearly seasonality. Run prophet with yearly_seasonality=True to override this.\n",
      "INFO:fbprophet:Disabling daily seasonality. Run prophet with daily_seasonality=True to override this.\n",
      "INFO:fbprophet:Disabling yearly seasonality. Run prophet with yearly_seasonality=True to override this.\n",
      "INFO:fbprophet:Disabling daily seasonality. Run prophet with daily_seasonality=True to override this.\n"
     ]
    }
   ],
   "source": [
    "# Create prophet model for each county and use date only after '2020-06-01'\n",
    "df = pd.DataFrame()\n",
    "for ii in all_state_county:\n",
    "    ts = data[data['state_county']==ii].copy()\n",
    "    # use only date after 2020-06-01\n",
    "    ts = ts[ts.date >=pd.to_datetime('2020-06-01')].copy()\n",
    "    int_df = ts.copy()\n",
    "    ts = ts[:-10].copy()\n",
    "    # check the baseline of last value moving forward\n",
    "    last_val_forward = ts['cases'][-1:].values[0]  \n",
    "    ts = ts[['date', 'cases']].copy()\n",
    "    ts.date = pd.to_datetime(ts.date)\n",
    "    ts.columns = ['ds', 'y']\n",
    "    model = Prophet()  # can also specify seasonality mode multplicative in the model\n",
    "    model.fit(ts)\n",
    "    future = model.make_future_dataframe(periods=10,freq = 'D')\n",
    "    forecast = model.predict(future)\n",
    "    fcast = forecast[['ds', 'yhat']].copy()\n",
    "    fcast.columns = ['date','predicted_cases']\n",
    "    int_df['date'] = list(fcast.date)\n",
    "    int_df['predicted_cases'] = list(fcast.predicted_cases)\n",
    "    acc = 100.-abs(int_df['cases'][-10:]-int_df['predicted_cases'][-10:])/(int_df['cases'][-10:])*100\n",
    "    int_df['accuracy'] = acc.mean()\n",
    "    int_df['baseline_accuracy'] = 100.-abs(int_df['cases'][-10:]-last_val_forward)/(int_df['cases'][-10:])*100\n",
    "    df = pd.concat([df,int_df])"
   ]
  },
  {
   "cell_type": "code",
   "execution_count": 57,
   "metadata": {},
   "outputs": [
    {
     "data": {
      "text/plain": [
       "54"
      ]
     },
     "execution_count": 57,
     "metadata": {},
     "output_type": "execute_result"
    }
   ],
   "source": [
    "len(int_df)"
   ]
  },
  {
   "cell_type": "code",
   "execution_count": 59,
   "metadata": {
    "scrolled": true
   },
   "outputs": [
    {
     "data": {
      "text/html": [
       "<div>\n",
       "<style scoped>\n",
       "    .dataframe tbody tr th:only-of-type {\n",
       "        vertical-align: middle;\n",
       "    }\n",
       "\n",
       "    .dataframe tbody tr th {\n",
       "        vertical-align: top;\n",
       "    }\n",
       "\n",
       "    .dataframe thead th {\n",
       "        text-align: right;\n",
       "    }\n",
       "</style>\n",
       "<table border=\"1\" class=\"dataframe\">\n",
       "  <thead>\n",
       "    <tr style=\"text-align: right;\">\n",
       "      <th></th>\n",
       "      <th>state_fips</th>\n",
       "      <th>state_name</th>\n",
       "      <th>county_name</th>\n",
       "      <th>area_name</th>\n",
       "      <th>lat</th>\n",
       "      <th>long</th>\n",
       "      <th>date</th>\n",
       "      <th>cases</th>\n",
       "      <th>deaths</th>\n",
       "      <th>county_fips</th>\n",
       "      <th>...</th>\n",
       "      <th>population_estimate_2018</th>\n",
       "      <th>state_county</th>\n",
       "      <th>change_trend</th>\n",
       "      <th>trend</th>\n",
       "      <th>cases_per_hud_thousand</th>\n",
       "      <th>current_cases_per_hund_thou</th>\n",
       "      <th>current_number_cases_category</th>\n",
       "      <th>predicted_cases</th>\n",
       "      <th>accuracy</th>\n",
       "      <th>baseline_accuracy</th>\n",
       "    </tr>\n",
       "  </thead>\n",
       "  <tbody>\n",
       "    <tr>\n",
       "      <th>143796</th>\n",
       "      <td>26</td>\n",
       "      <td>Michigan</td>\n",
       "      <td>Calhoun County</td>\n",
       "      <td></td>\n",
       "      <td>42.2429896</td>\n",
       "      <td>-85.0123853</td>\n",
       "      <td>2020-06-01</td>\n",
       "      <td>372</td>\n",
       "      <td>22</td>\n",
       "      <td>26025</td>\n",
       "      <td>...</td>\n",
       "      <td>134487</td>\n",
       "      <td>Michigan, Calhoun County</td>\n",
       "      <td>0.935504</td>\n",
       "      <td>leveling off</td>\n",
       "      <td>276.606661</td>\n",
       "      <td>507.483995</td>\n",
       "      <td>relatively low cases</td>\n",
       "      <td>368.476989</td>\n",
       "      <td>99.493219</td>\n",
       "      <td>NaN</td>\n",
       "    </tr>\n",
       "    <tr>\n",
       "      <th>143797</th>\n",
       "      <td>26</td>\n",
       "      <td>Michigan</td>\n",
       "      <td>Calhoun County</td>\n",
       "      <td></td>\n",
       "      <td>42.2429896</td>\n",
       "      <td>-85.0123853</td>\n",
       "      <td>2020-06-02</td>\n",
       "      <td>386</td>\n",
       "      <td>23</td>\n",
       "      <td>26025</td>\n",
       "      <td>...</td>\n",
       "      <td>134487</td>\n",
       "      <td>Michigan, Calhoun County</td>\n",
       "      <td>0.935504</td>\n",
       "      <td>leveling off</td>\n",
       "      <td>287.016589</td>\n",
       "      <td>507.483995</td>\n",
       "      <td>relatively low cases</td>\n",
       "      <td>385.171450</td>\n",
       "      <td>99.493219</td>\n",
       "      <td>NaN</td>\n",
       "    </tr>\n",
       "    <tr>\n",
       "      <th>143798</th>\n",
       "      <td>26</td>\n",
       "      <td>Michigan</td>\n",
       "      <td>Calhoun County</td>\n",
       "      <td></td>\n",
       "      <td>42.2429896</td>\n",
       "      <td>-85.0123853</td>\n",
       "      <td>2020-06-03</td>\n",
       "      <td>392</td>\n",
       "      <td>23</td>\n",
       "      <td>26025</td>\n",
       "      <td>...</td>\n",
       "      <td>134487</td>\n",
       "      <td>Michigan, Calhoun County</td>\n",
       "      <td>0.935504</td>\n",
       "      <td>leveling off</td>\n",
       "      <td>291.477987</td>\n",
       "      <td>507.483995</td>\n",
       "      <td>relatively low cases</td>\n",
       "      <td>400.505394</td>\n",
       "      <td>99.493219</td>\n",
       "      <td>NaN</td>\n",
       "    </tr>\n",
       "    <tr>\n",
       "      <th>143799</th>\n",
       "      <td>26</td>\n",
       "      <td>Michigan</td>\n",
       "      <td>Calhoun County</td>\n",
       "      <td></td>\n",
       "      <td>42.2429896</td>\n",
       "      <td>-85.0123853</td>\n",
       "      <td>2020-06-04</td>\n",
       "      <td>398</td>\n",
       "      <td>23</td>\n",
       "      <td>26025</td>\n",
       "      <td>...</td>\n",
       "      <td>134487</td>\n",
       "      <td>Michigan, Calhoun County</td>\n",
       "      <td>0.935504</td>\n",
       "      <td>leveling off</td>\n",
       "      <td>295.939384</td>\n",
       "      <td>507.483995</td>\n",
       "      <td>relatively low cases</td>\n",
       "      <td>417.319668</td>\n",
       "      <td>99.493219</td>\n",
       "      <td>NaN</td>\n",
       "    </tr>\n",
       "    <tr>\n",
       "      <th>143800</th>\n",
       "      <td>26</td>\n",
       "      <td>Michigan</td>\n",
       "      <td>Calhoun County</td>\n",
       "      <td></td>\n",
       "      <td>42.2429896</td>\n",
       "      <td>-85.0123853</td>\n",
       "      <td>2020-06-05</td>\n",
       "      <td>454</td>\n",
       "      <td>25</td>\n",
       "      <td>26025</td>\n",
       "      <td>...</td>\n",
       "      <td>134487</td>\n",
       "      <td>Michigan, Calhoun County</td>\n",
       "      <td>0.935504</td>\n",
       "      <td>leveling off</td>\n",
       "      <td>337.579097</td>\n",
       "      <td>507.483995</td>\n",
       "      <td>relatively low cases</td>\n",
       "      <td>440.800036</td>\n",
       "      <td>99.493219</td>\n",
       "      <td>NaN</td>\n",
       "    </tr>\n",
       "  </tbody>\n",
       "</table>\n",
       "<p>5 rows × 21 columns</p>\n",
       "</div>"
      ],
      "text/plain": [
       "       state_fips state_name     county_name area_name         lat  \\\n",
       "143796         26   Michigan  Calhoun County            42.2429896   \n",
       "143797         26   Michigan  Calhoun County            42.2429896   \n",
       "143798         26   Michigan  Calhoun County            42.2429896   \n",
       "143799         26   Michigan  Calhoun County            42.2429896   \n",
       "143800         26   Michigan  Calhoun County            42.2429896   \n",
       "\n",
       "               long       date  cases deaths  county_fips  ...  \\\n",
       "143796  -85.0123853 2020-06-01    372     22        26025  ...   \n",
       "143797  -85.0123853 2020-06-02    386     23        26025  ...   \n",
       "143798  -85.0123853 2020-06-03    392     23        26025  ...   \n",
       "143799  -85.0123853 2020-06-04    398     23        26025  ...   \n",
       "143800  -85.0123853 2020-06-05    454     25        26025  ...   \n",
       "\n",
       "        population_estimate_2018              state_county change_trend  \\\n",
       "143796                    134487  Michigan, Calhoun County     0.935504   \n",
       "143797                    134487  Michigan, Calhoun County     0.935504   \n",
       "143798                    134487  Michigan, Calhoun County     0.935504   \n",
       "143799                    134487  Michigan, Calhoun County     0.935504   \n",
       "143800                    134487  Michigan, Calhoun County     0.935504   \n",
       "\n",
       "               trend cases_per_hud_thousand  current_cases_per_hund_thou  \\\n",
       "143796  leveling off             276.606661                   507.483995   \n",
       "143797  leveling off             287.016589                   507.483995   \n",
       "143798  leveling off             291.477987                   507.483995   \n",
       "143799  leveling off             295.939384                   507.483995   \n",
       "143800  leveling off             337.579097                   507.483995   \n",
       "\n",
       "        current_number_cases_category predicted_cases   accuracy  \\\n",
       "143796           relatively low cases      368.476989  99.493219   \n",
       "143797           relatively low cases      385.171450  99.493219   \n",
       "143798           relatively low cases      400.505394  99.493219   \n",
       "143799           relatively low cases      417.319668  99.493219   \n",
       "143800           relatively low cases      440.800036  99.493219   \n",
       "\n",
       "        baseline_accuracy  \n",
       "143796                NaN  \n",
       "143797                NaN  \n",
       "143798                NaN  \n",
       "143799                NaN  \n",
       "143800                NaN  \n",
       "\n",
       "[5 rows x 21 columns]"
      ]
     },
     "execution_count": 59,
     "metadata": {},
     "output_type": "execute_result"
    }
   ],
   "source": [
    "int_df.head()"
   ]
  },
  {
   "cell_type": "markdown",
   "metadata": {},
   "source": [
    "# Individually check all cases"
   ]
  },
  {
   "cell_type": "code",
   "execution_count": 102,
   "metadata": {},
   "outputs": [],
   "source": [
    "number_ = 19"
   ]
  },
  {
   "cell_type": "code",
   "execution_count": 109,
   "metadata": {},
   "outputs": [],
   "source": [
    "check = df[df['state_county'] == 'West Virginia, Boone County'][['date', 'cases', 'predicted_cases']]"
   ]
  },
  {
   "cell_type": "code",
   "execution_count": 110,
   "metadata": {},
   "outputs": [
    {
     "data": {
      "text/plain": [
       "'Michigan, Calhoun County'"
      ]
     },
     "execution_count": 110,
     "metadata": {},
     "output_type": "execute_result"
    }
   ],
   "source": [
    "all_state_county[number_]"
   ]
  },
  {
   "cell_type": "code",
   "execution_count": 111,
   "metadata": {},
   "outputs": [
    {
     "data": {
      "text/plain": [
       "54"
      ]
     },
     "execution_count": 111,
     "metadata": {},
     "output_type": "execute_result"
    }
   ],
   "source": [
    "len(check)"
   ]
  },
  {
   "cell_type": "code",
   "execution_count": 112,
   "metadata": {},
   "outputs": [
    {
     "data": {
      "text/html": [
       "<div>\n",
       "<style scoped>\n",
       "    .dataframe tbody tr th:only-of-type {\n",
       "        vertical-align: middle;\n",
       "    }\n",
       "\n",
       "    .dataframe tbody tr th {\n",
       "        vertical-align: top;\n",
       "    }\n",
       "\n",
       "    .dataframe thead th {\n",
       "        text-align: right;\n",
       "    }\n",
       "</style>\n",
       "<table border=\"1\" class=\"dataframe\">\n",
       "  <thead>\n",
       "    <tr style=\"text-align: right;\">\n",
       "      <th></th>\n",
       "      <th>date</th>\n",
       "      <th>cases</th>\n",
       "      <th>predicted_cases</th>\n",
       "    </tr>\n",
       "  </thead>\n",
       "  <tbody>\n",
       "    <tr>\n",
       "      <th>348587</th>\n",
       "      <td>2020-07-15</td>\n",
       "      <td>46</td>\n",
       "      <td>32.927171</td>\n",
       "    </tr>\n",
       "    <tr>\n",
       "      <th>348588</th>\n",
       "      <td>2020-07-16</td>\n",
       "      <td>50</td>\n",
       "      <td>33.992779</td>\n",
       "    </tr>\n",
       "    <tr>\n",
       "      <th>348589</th>\n",
       "      <td>2020-07-17</td>\n",
       "      <td>53</td>\n",
       "      <td>35.225003</td>\n",
       "    </tr>\n",
       "    <tr>\n",
       "      <th>348590</th>\n",
       "      <td>2020-07-18</td>\n",
       "      <td>57</td>\n",
       "      <td>35.790603</td>\n",
       "    </tr>\n",
       "    <tr>\n",
       "      <th>348591</th>\n",
       "      <td>2020-07-19</td>\n",
       "      <td>61</td>\n",
       "      <td>36.689448</td>\n",
       "    </tr>\n",
       "    <tr>\n",
       "      <th>348592</th>\n",
       "      <td>2020-07-20</td>\n",
       "      <td>58</td>\n",
       "      <td>36.994014</td>\n",
       "    </tr>\n",
       "    <tr>\n",
       "      <th>348593</th>\n",
       "      <td>2020-07-21</td>\n",
       "      <td>59</td>\n",
       "      <td>38.813981</td>\n",
       "    </tr>\n",
       "    <tr>\n",
       "      <th>348594</th>\n",
       "      <td>2020-07-22</td>\n",
       "      <td>63</td>\n",
       "      <td>38.145637</td>\n",
       "    </tr>\n",
       "    <tr>\n",
       "      <th>348595</th>\n",
       "      <td>2020-07-23</td>\n",
       "      <td>64</td>\n",
       "      <td>39.211244</td>\n",
       "    </tr>\n",
       "    <tr>\n",
       "      <th>348596</th>\n",
       "      <td>2020-07-24</td>\n",
       "      <td>69</td>\n",
       "      <td>40.443468</td>\n",
       "    </tr>\n",
       "  </tbody>\n",
       "</table>\n",
       "</div>"
      ],
      "text/plain": [
       "             date  cases  predicted_cases\n",
       "348587 2020-07-15     46        32.927171\n",
       "348588 2020-07-16     50        33.992779\n",
       "348589 2020-07-17     53        35.225003\n",
       "348590 2020-07-18     57        35.790603\n",
       "348591 2020-07-19     61        36.689448\n",
       "348592 2020-07-20     58        36.994014\n",
       "348593 2020-07-21     59        38.813981\n",
       "348594 2020-07-22     63        38.145637\n",
       "348595 2020-07-23     64        39.211244\n",
       "348596 2020-07-24     69        40.443468"
      ]
     },
     "execution_count": 112,
     "metadata": {},
     "output_type": "execute_result"
    }
   ],
   "source": [
    "check.tail(10)"
   ]
  },
  {
   "cell_type": "code",
   "execution_count": 113,
   "metadata": {},
   "outputs": [
    {
     "data": {
      "text/plain": [
       "[<matplotlib.lines.Line2D at 0x2431d090108>]"
      ]
     },
     "execution_count": 113,
     "metadata": {},
     "output_type": "execute_result"
    },
    {
     "data": {
      "image/png": "[encoded data removed]",
      "text/plain": [
       "<Figure size 1152x720 with 1 Axes>"
      ]
     },
     "metadata": {
      "needs_background": "light"
     },
     "output_type": "display_data"
    }
   ],
   "source": [
    "plt.figure (figsize=(16,10))\n",
    "plt.scatter(check['date'], check['cases'], lw=4)\n",
    "plt.plot(check['date'], check['predicted_cases'], color='r', lw=4)"
   ]
  },
  {
   "cell_type": "code",
   "execution_count": 101,
   "metadata": {},
   "outputs": [
    {
     "data": {
      "image/png": "[encoded data removed]",
      "text/plain": [
       "<Figure size 648x432 with 2 Axes>"
      ]
     },
     "metadata": {},
     "output_type": "display_data"
    }
   ],
   "source": [
    "fig = model.plot_components(forecast)"
   ]
  },
  {
   "cell_type": "code",
   "execution_count": 92,
   "metadata": {},
   "outputs": [
    {
     "data": {
      "text/html": [
       "<div>\n",
       "<style scoped>\n",
       "    .dataframe tbody tr th:only-of-type {\n",
       "        vertical-align: middle;\n",
       "    }\n",
       "\n",
       "    .dataframe tbody tr th {\n",
       "        vertical-align: top;\n",
       "    }\n",
       "\n",
       "    .dataframe thead th {\n",
       "        text-align: right;\n",
       "    }\n",
       "</style>\n",
       "<table border=\"1\" class=\"dataframe\">\n",
       "  <thead>\n",
       "    <tr style=\"text-align: right;\">\n",
       "      <th></th>\n",
       "      <th>state_fips</th>\n",
       "      <th>state_name</th>\n",
       "      <th>county_name</th>\n",
       "      <th>area_name</th>\n",
       "      <th>lat</th>\n",
       "      <th>long</th>\n",
       "      <th>date</th>\n",
       "      <th>cases</th>\n",
       "      <th>deaths</th>\n",
       "      <th>county_fips</th>\n",
       "      <th>...</th>\n",
       "      <th>population_estimate_2018</th>\n",
       "      <th>state_county</th>\n",
       "      <th>change_trend</th>\n",
       "      <th>trend</th>\n",
       "      <th>cases_per_hud_thousand</th>\n",
       "      <th>current_cases_per_hund_thou</th>\n",
       "      <th>current_number_cases_category</th>\n",
       "      <th>predicted_cases</th>\n",
       "      <th>accuracy</th>\n",
       "      <th>baseline_accuracy</th>\n",
       "    </tr>\n",
       "  </thead>\n",
       "  <tbody>\n",
       "    <tr>\n",
       "      <th>6335</th>\n",
       "      <td>31</td>\n",
       "      <td>Nebraska</td>\n",
       "      <td>Otoe County</td>\n",
       "      <td></td>\n",
       "      <td>40.6379916</td>\n",
       "      <td>-96.1310274</td>\n",
       "      <td>2020-06-01</td>\n",
       "      <td>7</td>\n",
       "      <td>0</td>\n",
       "      <td>31131</td>\n",
       "      <td>...</td>\n",
       "      <td>15985</td>\n",
       "      <td>Nebraska, Otoe County</td>\n",
       "      <td>3.13472</td>\n",
       "      <td>growth</td>\n",
       "      <td>43.791054</td>\n",
       "      <td>237.722865</td>\n",
       "      <td>relatively very low cases</td>\n",
       "      <td>7.019878</td>\n",
       "      <td>95.941106</td>\n",
       "      <td>NaN</td>\n",
       "    </tr>\n",
       "    <tr>\n",
       "      <th>6336</th>\n",
       "      <td>31</td>\n",
       "      <td>Nebraska</td>\n",
       "      <td>Otoe County</td>\n",
       "      <td></td>\n",
       "      <td>40.6379916</td>\n",
       "      <td>-96.1310274</td>\n",
       "      <td>2020-06-02</td>\n",
       "      <td>7</td>\n",
       "      <td>0</td>\n",
       "      <td>31131</td>\n",
       "      <td>...</td>\n",
       "      <td>15985</td>\n",
       "      <td>Nebraska, Otoe County</td>\n",
       "      <td>3.13472</td>\n",
       "      <td>growth</td>\n",
       "      <td>43.791054</td>\n",
       "      <td>237.722865</td>\n",
       "      <td>relatively very low cases</td>\n",
       "      <td>7.597490</td>\n",
       "      <td>95.941106</td>\n",
       "      <td>NaN</td>\n",
       "    </tr>\n",
       "    <tr>\n",
       "      <th>6337</th>\n",
       "      <td>31</td>\n",
       "      <td>Nebraska</td>\n",
       "      <td>Otoe County</td>\n",
       "      <td></td>\n",
       "      <td>40.6379916</td>\n",
       "      <td>-96.1310274</td>\n",
       "      <td>2020-06-03</td>\n",
       "      <td>7</td>\n",
       "      <td>0</td>\n",
       "      <td>31131</td>\n",
       "      <td>...</td>\n",
       "      <td>15985</td>\n",
       "      <td>Nebraska, Otoe County</td>\n",
       "      <td>3.13472</td>\n",
       "      <td>growth</td>\n",
       "      <td>43.791054</td>\n",
       "      <td>237.722865</td>\n",
       "      <td>relatively very low cases</td>\n",
       "      <td>7.702169</td>\n",
       "      <td>95.941106</td>\n",
       "      <td>NaN</td>\n",
       "    </tr>\n",
       "    <tr>\n",
       "      <th>6338</th>\n",
       "      <td>31</td>\n",
       "      <td>Nebraska</td>\n",
       "      <td>Otoe County</td>\n",
       "      <td></td>\n",
       "      <td>40.6379916</td>\n",
       "      <td>-96.1310274</td>\n",
       "      <td>2020-06-04</td>\n",
       "      <td>7</td>\n",
       "      <td>0</td>\n",
       "      <td>31131</td>\n",
       "      <td>...</td>\n",
       "      <td>15985</td>\n",
       "      <td>Nebraska, Otoe County</td>\n",
       "      <td>3.13472</td>\n",
       "      <td>growth</td>\n",
       "      <td>43.791054</td>\n",
       "      <td>237.722865</td>\n",
       "      <td>relatively very low cases</td>\n",
       "      <td>8.415841</td>\n",
       "      <td>95.941106</td>\n",
       "      <td>NaN</td>\n",
       "    </tr>\n",
       "    <tr>\n",
       "      <th>6339</th>\n",
       "      <td>31</td>\n",
       "      <td>Nebraska</td>\n",
       "      <td>Otoe County</td>\n",
       "      <td></td>\n",
       "      <td>40.6379916</td>\n",
       "      <td>-96.1310274</td>\n",
       "      <td>2020-06-05</td>\n",
       "      <td>10</td>\n",
       "      <td>0</td>\n",
       "      <td>31131</td>\n",
       "      <td>...</td>\n",
       "      <td>15985</td>\n",
       "      <td>Nebraska, Otoe County</td>\n",
       "      <td>3.13472</td>\n",
       "      <td>growth</td>\n",
       "      <td>62.558649</td>\n",
       "      <td>237.722865</td>\n",
       "      <td>relatively very low cases</td>\n",
       "      <td>8.962779</td>\n",
       "      <td>95.941106</td>\n",
       "      <td>NaN</td>\n",
       "    </tr>\n",
       "  </tbody>\n",
       "</table>\n",
       "<p>5 rows × 21 columns</p>\n",
       "</div>"
      ],
      "text/plain": [
       "     state_fips state_name  county_name area_name         lat         long  \\\n",
       "6335         31   Nebraska  Otoe County            40.6379916  -96.1310274   \n",
       "6336         31   Nebraska  Otoe County            40.6379916  -96.1310274   \n",
       "6337         31   Nebraska  Otoe County            40.6379916  -96.1310274   \n",
       "6338         31   Nebraska  Otoe County            40.6379916  -96.1310274   \n",
       "6339         31   Nebraska  Otoe County            40.6379916  -96.1310274   \n",
       "\n",
       "           date  cases deaths  county_fips  ...  population_estimate_2018  \\\n",
       "6335 2020-06-01      7      0        31131  ...                     15985   \n",
       "6336 2020-06-02      7      0        31131  ...                     15985   \n",
       "6337 2020-06-03      7      0        31131  ...                     15985   \n",
       "6338 2020-06-04      7      0        31131  ...                     15985   \n",
       "6339 2020-06-05     10      0        31131  ...                     15985   \n",
       "\n",
       "               state_county change_trend   trend cases_per_hud_thousand  \\\n",
       "6335  Nebraska, Otoe County      3.13472  growth              43.791054   \n",
       "6336  Nebraska, Otoe County      3.13472  growth              43.791054   \n",
       "6337  Nebraska, Otoe County      3.13472  growth              43.791054   \n",
       "6338  Nebraska, Otoe County      3.13472  growth              43.791054   \n",
       "6339  Nebraska, Otoe County      3.13472  growth              62.558649   \n",
       "\n",
       "      current_cases_per_hund_thou  current_number_cases_category  \\\n",
       "6335                   237.722865      relatively very low cases   \n",
       "6336                   237.722865      relatively very low cases   \n",
       "6337                   237.722865      relatively very low cases   \n",
       "6338                   237.722865      relatively very low cases   \n",
       "6339                   237.722865      relatively very low cases   \n",
       "\n",
       "     predicted_cases   accuracy  baseline_accuracy  \n",
       "6335        7.019878  95.941106                NaN  \n",
       "6336        7.597490  95.941106                NaN  \n",
       "6337        7.702169  95.941106                NaN  \n",
       "6338        8.415841  95.941106                NaN  \n",
       "6339        8.962779  95.941106                NaN  \n",
       "\n",
       "[5 rows x 21 columns]"
      ]
     },
     "execution_count": 92,
     "metadata": {},
     "output_type": "execute_result"
    }
   ],
   "source": [
    "df[df['state_county'] == all_state_county[number_]].head()"
   ]
  },
  {
   "cell_type": "code",
   "execution_count": 93,
   "metadata": {},
   "outputs": [],
   "source": [
    "acc_check = df.groupby('state_county')[['accuracy', 'baseline_accuracy']].mean()"
   ]
  },
  {
   "cell_type": "code",
   "execution_count": 94,
   "metadata": {},
   "outputs": [
    {
     "data": {
      "text/html": [
       "<div>\n",
       "<style scoped>\n",
       "    .dataframe tbody tr th:only-of-type {\n",
       "        vertical-align: middle;\n",
       "    }\n",
       "\n",
       "    .dataframe tbody tr th {\n",
       "        vertical-align: top;\n",
       "    }\n",
       "\n",
       "    .dataframe thead th {\n",
       "        text-align: right;\n",
       "    }\n",
       "</style>\n",
       "<table border=\"1\" class=\"dataframe\">\n",
       "  <thead>\n",
       "    <tr style=\"text-align: right;\">\n",
       "      <th></th>\n",
       "      <th>accuracy</th>\n",
       "      <th>baseline_accuracy</th>\n",
       "    </tr>\n",
       "    <tr>\n",
       "      <th>state_county</th>\n",
       "      <th></th>\n",
       "      <th></th>\n",
       "    </tr>\n",
       "  </thead>\n",
       "  <tbody>\n",
       "    <tr>\n",
       "      <th>Arizona, Pima County</th>\n",
       "      <td>97.062571</td>\n",
       "      <td>89.998464</td>\n",
       "    </tr>\n",
       "    <tr>\n",
       "      <th>California, San Luis Obispo County</th>\n",
       "      <td>95.045052</td>\n",
       "      <td>83.915593</td>\n",
       "    </tr>\n",
       "    <tr>\n",
       "      <th>Florida, Calhoun County</th>\n",
       "      <td>96.166881</td>\n",
       "      <td>80.004199</td>\n",
       "    </tr>\n",
       "    <tr>\n",
       "      <th>Georgia, Jasper County</th>\n",
       "      <td>97.148826</td>\n",
       "      <td>88.760614</td>\n",
       "    </tr>\n",
       "    <tr>\n",
       "      <th>Georgia, Jones County</th>\n",
       "      <td>95.390990</td>\n",
       "      <td>81.807923</td>\n",
       "    </tr>\n",
       "    <tr>\n",
       "      <th>Iowa, Butler County</th>\n",
       "      <td>98.033165</td>\n",
       "      <td>85.126662</td>\n",
       "    </tr>\n",
       "    <tr>\n",
       "      <th>Michigan, Alpena County</th>\n",
       "      <td>98.684064</td>\n",
       "      <td>98.639355</td>\n",
       "    </tr>\n",
       "    <tr>\n",
       "      <th>Michigan, Calhoun County</th>\n",
       "      <td>99.493219</td>\n",
       "      <td>94.501272</td>\n",
       "    </tr>\n",
       "    <tr>\n",
       "      <th>Michigan, Isabella County</th>\n",
       "      <td>97.412481</td>\n",
       "      <td>89.081014</td>\n",
       "    </tr>\n",
       "    <tr>\n",
       "      <th>Minnesota, Redwood County</th>\n",
       "      <td>95.728326</td>\n",
       "      <td>94.071022</td>\n",
       "    </tr>\n",
       "    <tr>\n",
       "      <th>Nebraska, Otoe County</th>\n",
       "      <td>95.941106</td>\n",
       "      <td>87.309497</td>\n",
       "    </tr>\n",
       "    <tr>\n",
       "      <th>Nebraska, Valley County</th>\n",
       "      <td>92.125918</td>\n",
       "      <td>88.888889</td>\n",
       "    </tr>\n",
       "    <tr>\n",
       "      <th>Nevada, Washoe County</th>\n",
       "      <td>97.706309</td>\n",
       "      <td>89.633373</td>\n",
       "    </tr>\n",
       "    <tr>\n",
       "      <th>New Jersey, Hunterdon County</th>\n",
       "      <td>99.616302</td>\n",
       "      <td>99.448277</td>\n",
       "    </tr>\n",
       "    <tr>\n",
       "      <th>New Mexico, Luna County</th>\n",
       "      <td>96.410993</td>\n",
       "      <td>86.530520</td>\n",
       "    </tr>\n",
       "    <tr>\n",
       "      <th>North Carolina, Craven County</th>\n",
       "      <td>97.023578</td>\n",
       "      <td>91.846465</td>\n",
       "    </tr>\n",
       "    <tr>\n",
       "      <th>Texas, Archer County</th>\n",
       "      <td>92.678831</td>\n",
       "      <td>96.923077</td>\n",
       "    </tr>\n",
       "    <tr>\n",
       "      <th>Texas, Deaf Smith County</th>\n",
       "      <td>95.349129</td>\n",
       "      <td>90.288024</td>\n",
       "    </tr>\n",
       "    <tr>\n",
       "      <th>Texas, Dimmit County</th>\n",
       "      <td>52.860149</td>\n",
       "      <td>69.953977</td>\n",
       "    </tr>\n",
       "    <tr>\n",
       "      <th>West Virginia, Boone County</th>\n",
       "      <td>63.896491</td>\n",
       "      <td>66.395750</td>\n",
       "    </tr>\n",
       "  </tbody>\n",
       "</table>\n",
       "</div>"
      ],
      "text/plain": [
       "                                     accuracy  baseline_accuracy\n",
       "state_county                                                    \n",
       "Arizona, Pima County                97.062571          89.998464\n",
       "California, San Luis Obispo County  95.045052          83.915593\n",
       "Florida, Calhoun County             96.166881          80.004199\n",
       "Georgia, Jasper County              97.148826          88.760614\n",
       "Georgia, Jones County               95.390990          81.807923\n",
       "Iowa, Butler County                 98.033165          85.126662\n",
       "Michigan, Alpena County             98.684064          98.639355\n",
       "Michigan, Calhoun County            99.493219          94.501272\n",
       "Michigan, Isabella County           97.412481          89.081014\n",
       "Minnesota, Redwood County           95.728326          94.071022\n",
       "Nebraska, Otoe County               95.941106          87.309497\n",
       "Nebraska, Valley County             92.125918          88.888889\n",
       "Nevada, Washoe County               97.706309          89.633373\n",
       "New Jersey, Hunterdon County        99.616302          99.448277\n",
       "New Mexico, Luna County             96.410993          86.530520\n",
       "North Carolina, Craven County       97.023578          91.846465\n",
       "Texas, Archer County                92.678831          96.923077\n",
       "Texas, Deaf Smith County            95.349129          90.288024\n",
       "Texas, Dimmit County                52.860149          69.953977\n",
       "West Virginia, Boone County         63.896491          66.395750"
      ]
     },
     "execution_count": 94,
     "metadata": {},
     "output_type": "execute_result"
    }
   ],
   "source": [
    "acc_check"
   ]
  },
  {
   "cell_type": "code",
   "execution_count": 269,
   "metadata": {},
   "outputs": [
    {
     "data": {
      "text/plain": [
       "94.3570065462365"
      ]
     },
     "execution_count": 269,
     "metadata": {},
     "output_type": "execute_result"
    }
   ],
   "source": [
    "acc_check['accuracy'].mean()"
   ]
  },
  {
   "cell_type": "code",
   "execution_count": 270,
   "metadata": {},
   "outputs": [
    {
     "data": {
      "text/plain": [
       "84.80935100151325"
      ]
     },
     "execution_count": 270,
     "metadata": {},
     "output_type": "execute_result"
    }
   ],
   "source": [
    "acc_check['baseline_accuracy'].mean()"
   ]
  },
  {
   "cell_type": "code",
   "execution_count": null,
   "metadata": {},
   "outputs": [],
   "source": []
  }
 ],
 "metadata": {
  "kernelspec": {
   "display_name": "Python 3",
   "language": "python",
   "name": "python3"
  },
  "language_info": {
   "codemirror_mode": {
    "name": "ipython",
    "version": 3
   },
   "file_extension": ".py",
   "mimetype": "text/x-python",
   "name": "python",
   "nbconvert_exporter": "python",
   "pygments_lexer": "ipython3",
   "version": "3.7.5"
  }
 },
 "nbformat": 4,
 "nbformat_minor": 4
}
