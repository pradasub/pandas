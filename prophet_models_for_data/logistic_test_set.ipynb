{
 "cells": [
  {
   "cell_type": "code",
   "execution_count": 1,
   "metadata": {},
   "outputs": [
    {
     "name": "stderr",
     "output_type": "stream",
     "text": [
      "Importing plotly failed. Interactive plots will not work.\n"
     ]
    }
   ],
   "source": [
    "import pyodbc\n",
    "import pandas as pd\n",
    "from fbprophet import Prophet\n",
    "import matplotlib.pyplot as plt\n",
    "import seaborn as sns"
   ]
  },
  {
   "cell_type": "markdown",
   "metadata": {},
   "source": [
    "# Read data"
   ]
  },
  {
   "cell_type": "code",
   "execution_count": 2,
   "metadata": {},
   "outputs": [],
   "source": []
  },
  {
   "cell_type": "code",
   "execution_count": 3,
   "metadata": {},
   "outputs": [],
   "source": [
    "cusor = cnxn.cursor()"
   ]
  },
  {
   "cell_type": "code",
   "execution_count": 4,
   "metadata": {},
   "outputs": [],
   "source": [
    "sql = '''\n",
    "    select * from General.\"Report Sources\".\"Return to Work\".\"Covid 19 Update\"\n",
    "'''"
   ]
  },
  {
   "cell_type": "code",
   "execution_count": 5,
   "metadata": {},
   "outputs": [
    {
     "data": {
      "text/plain": [
       "<pyodbc.Cursor at 0x28045c436b0>"
      ]
     },
     "execution_count": 5,
     "metadata": {},
     "output_type": "execute_result"
    }
   ],
   "source": [
    "cusor.execute(sql)"
   ]
  },
  {
   "cell_type": "code",
   "execution_count": 6,
   "metadata": {},
   "outputs": [],
   "source": [
    "response = cusor.fetchall()"
   ]
  },
  {
   "cell_type": "code",
   "execution_count": 7,
   "metadata": {},
   "outputs": [],
   "source": [
    "data = pd.DataFrame.from_records(response, \n",
    "                                 columns=['state_fips', 'state_name', \n",
    "                                          'county_name', 'area_name', 'lat', \n",
    "                                          'long', 'date', 'cases', 'deaths',\n",
    "                                         'county_fips','id2','population_estimate_2018'])"
   ]
  },
  {
   "cell_type": "code",
   "execution_count": 8,
   "metadata": {
    "scrolled": true
   },
   "outputs": [
    {
     "data": {
      "text/html": [
       "<div>\n",
       "<style scoped>\n",
       "    .dataframe tbody tr th:only-of-type {\n",
       "        vertical-align: middle;\n",
       "    }\n",
       "\n",
       "    .dataframe tbody tr th {\n",
       "        vertical-align: top;\n",
       "    }\n",
       "\n",
       "    .dataframe thead th {\n",
       "        text-align: right;\n",
       "    }\n",
       "</style>\n",
       "<table border=\"1\" class=\"dataframe\">\n",
       "  <thead>\n",
       "    <tr style=\"text-align: right;\">\n",
       "      <th></th>\n",
       "      <th>state_fips</th>\n",
       "      <th>state_name</th>\n",
       "      <th>county_name</th>\n",
       "      <th>area_name</th>\n",
       "      <th>lat</th>\n",
       "      <th>long</th>\n",
       "      <th>date</th>\n",
       "      <th>cases</th>\n",
       "      <th>deaths</th>\n",
       "      <th>county_fips</th>\n",
       "      <th>id2</th>\n",
       "      <th>population_estimate_2018</th>\n",
       "    </tr>\n",
       "  </thead>\n",
       "  <tbody>\n",
       "    <tr>\n",
       "      <th>0</th>\n",
       "      <td>01</td>\n",
       "      <td>Alabama</td>\n",
       "      <td>Franklin County</td>\n",
       "      <td></td>\n",
       "      <td>34.4419892</td>\n",
       "      <td>-87.8428144</td>\n",
       "      <td>2020-03-25</td>\n",
       "      <td>2</td>\n",
       "      <td>0</td>\n",
       "      <td>1059</td>\n",
       "      <td>1059</td>\n",
       "      <td>31363</td>\n",
       "    </tr>\n",
       "    <tr>\n",
       "      <th>1</th>\n",
       "      <td>01</td>\n",
       "      <td>Alabama</td>\n",
       "      <td>Franklin County</td>\n",
       "      <td></td>\n",
       "      <td>34.4419892</td>\n",
       "      <td>-87.8428144</td>\n",
       "      <td>2020-03-26</td>\n",
       "      <td>3</td>\n",
       "      <td>0</td>\n",
       "      <td>1059</td>\n",
       "      <td>1059</td>\n",
       "      <td>31363</td>\n",
       "    </tr>\n",
       "    <tr>\n",
       "      <th>2</th>\n",
       "      <td>01</td>\n",
       "      <td>Alabama</td>\n",
       "      <td>Franklin County</td>\n",
       "      <td></td>\n",
       "      <td>34.4419892</td>\n",
       "      <td>-87.8428144</td>\n",
       "      <td>2020-03-27</td>\n",
       "      <td>3</td>\n",
       "      <td>0</td>\n",
       "      <td>1059</td>\n",
       "      <td>1059</td>\n",
       "      <td>31363</td>\n",
       "    </tr>\n",
       "    <tr>\n",
       "      <th>3</th>\n",
       "      <td>01</td>\n",
       "      <td>Alabama</td>\n",
       "      <td>Franklin County</td>\n",
       "      <td></td>\n",
       "      <td>34.4419892</td>\n",
       "      <td>-87.8428144</td>\n",
       "      <td>2020-03-28</td>\n",
       "      <td>3</td>\n",
       "      <td>0</td>\n",
       "      <td>1059</td>\n",
       "      <td>1059</td>\n",
       "      <td>31363</td>\n",
       "    </tr>\n",
       "    <tr>\n",
       "      <th>4</th>\n",
       "      <td>01</td>\n",
       "      <td>Alabama</td>\n",
       "      <td>Franklin County</td>\n",
       "      <td></td>\n",
       "      <td>34.4419892</td>\n",
       "      <td>-87.8428144</td>\n",
       "      <td>2020-03-29</td>\n",
       "      <td>3</td>\n",
       "      <td>0</td>\n",
       "      <td>1059</td>\n",
       "      <td>1059</td>\n",
       "      <td>31363</td>\n",
       "    </tr>\n",
       "  </tbody>\n",
       "</table>\n",
       "</div>"
      ],
      "text/plain": [
       "  state_fips state_name      county_name area_name         lat         long  \\\n",
       "0         01    Alabama  Franklin County            34.4419892  -87.8428144   \n",
       "1         01    Alabama  Franklin County            34.4419892  -87.8428144   \n",
       "2         01    Alabama  Franklin County            34.4419892  -87.8428144   \n",
       "3         01    Alabama  Franklin County            34.4419892  -87.8428144   \n",
       "4         01    Alabama  Franklin County            34.4419892  -87.8428144   \n",
       "\n",
       "         date cases deaths  county_fips   id2 population_estimate_2018  \n",
       "0  2020-03-25     2      0         1059  1059                    31363  \n",
       "1  2020-03-26     3      0         1059  1059                    31363  \n",
       "2  2020-03-27     3      0         1059  1059                    31363  \n",
       "3  2020-03-28     3      0         1059  1059                    31363  \n",
       "4  2020-03-29     3      0         1059  1059                    31363  "
      ]
     },
     "execution_count": 8,
     "metadata": {},
     "output_type": "execute_result"
    }
   ],
   "source": [
    "data.head()"
   ]
  },
  {
   "cell_type": "code",
   "execution_count": 9,
   "metadata": {},
   "outputs": [],
   "source": [
    "# Remove leading and trailing white spaces\n",
    "data.replace('^\\s+', '', regex=True, inplace=True)\n",
    "data.replace('\\s+$', '', regex=True, inplace=True)"
   ]
  },
  {
   "cell_type": "code",
   "execution_count": 10,
   "metadata": {},
   "outputs": [],
   "source": [
    "data['cases'] = data['cases'].astype(int)\n",
    "data['population_estimate_2018'] = data['population_estimate_2018'].astype(int)\n",
    "data['date'] = pd.to_datetime(data['date'])"
   ]
  },
  {
   "cell_type": "markdown",
   "metadata": {},
   "source": [
    "# County name is not unique - create State-County name"
   ]
  },
  {
   "cell_type": "code",
   "execution_count": 11,
   "metadata": {},
   "outputs": [],
   "source": [
    "data['state_county'] = data['state_name'] + ', ' + data['county_name']"
   ]
  },
  {
   "cell_type": "code",
   "execution_count": 12,
   "metadata": {},
   "outputs": [
    {
     "data": {
      "text/plain": [
       "array(['Franklin County', 'Geneva County', 'Greene County', ...,\n",
       "       'Waupaca County', 'Waushara County', 'Converse County'],\n",
       "      dtype=object)"
      ]
     },
     "execution_count": 12,
     "metadata": {},
     "output_type": "execute_result"
    }
   ],
   "source": [
    "data['county_name'].unique()"
   ]
  },
  {
   "cell_type": "code",
   "execution_count": 13,
   "metadata": {},
   "outputs": [
    {
     "data": {
      "text/plain": [
       "(3176, 1930)"
      ]
     },
     "execution_count": 13,
     "metadata": {},
     "output_type": "execute_result"
    }
   ],
   "source": [
    "data['state_county'].nunique(), data['county_name'].nunique()"
   ]
  },
  {
   "cell_type": "code",
   "execution_count": 14,
   "metadata": {},
   "outputs": [
    {
     "name": "stdout",
     "output_type": "stream",
     "text": [
      "0 0\n"
     ]
    }
   ],
   "source": [
    "print(data['cases'].isna().sum(), data['date'].isna().sum())"
   ]
  },
  {
   "cell_type": "markdown",
   "metadata": {},
   "source": [
    "## Use recent 10 cases to calculate percentage change in cases"
   ]
  },
  {
   "cell_type": "code",
   "execution_count": 15,
   "metadata": {},
   "outputs": [],
   "source": [
    "# lambda x: x[-10:].pct_change().mean()*100)\n",
    "pct_change = data.groupby('state_county').apply(\n",
    "    lambda x: x['cases'][-10:].pct_change().mean()*100).reset_index()\n",
    "pct_change.columns = ['state_county', 'change_trend']"
   ]
  },
  {
   "cell_type": "code",
   "execution_count": 16,
   "metadata": {
    "scrolled": true
   },
   "outputs": [
    {
     "data": {
      "text/html": [
       "<div>\n",
       "<style scoped>\n",
       "    .dataframe tbody tr th:only-of-type {\n",
       "        vertical-align: middle;\n",
       "    }\n",
       "\n",
       "    .dataframe tbody tr th {\n",
       "        vertical-align: top;\n",
       "    }\n",
       "\n",
       "    .dataframe thead th {\n",
       "        text-align: right;\n",
       "    }\n",
       "</style>\n",
       "<table border=\"1\" class=\"dataframe\">\n",
       "  <thead>\n",
       "    <tr style=\"text-align: right;\">\n",
       "      <th></th>\n",
       "      <th>state_county</th>\n",
       "      <th>change_trend</th>\n",
       "    </tr>\n",
       "  </thead>\n",
       "  <tbody>\n",
       "    <tr>\n",
       "      <th>0</th>\n",
       "      <td>Alabama, Autauga County</td>\n",
       "      <td>2.223732</td>\n",
       "    </tr>\n",
       "    <tr>\n",
       "      <th>1</th>\n",
       "      <td>Alabama, Baldwin County</td>\n",
       "      <td>5.793953</td>\n",
       "    </tr>\n",
       "    <tr>\n",
       "      <th>2</th>\n",
       "      <td>Alabama, Barbour County</td>\n",
       "      <td>2.262622</td>\n",
       "    </tr>\n",
       "    <tr>\n",
       "      <th>3</th>\n",
       "      <td>Alabama, Bibb County</td>\n",
       "      <td>2.537120</td>\n",
       "    </tr>\n",
       "    <tr>\n",
       "      <th>4</th>\n",
       "      <td>Alabama, Blount County</td>\n",
       "      <td>5.234042</td>\n",
       "    </tr>\n",
       "  </tbody>\n",
       "</table>\n",
       "</div>"
      ],
      "text/plain": [
       "              state_county  change_trend\n",
       "0  Alabama, Autauga County      2.223732\n",
       "1  Alabama, Baldwin County      5.793953\n",
       "2  Alabama, Barbour County      2.262622\n",
       "3     Alabama, Bibb County      2.537120\n",
       "4   Alabama, Blount County      5.234042"
      ]
     },
     "execution_count": 16,
     "metadata": {},
     "output_type": "execute_result"
    }
   ],
   "source": [
    "pct_change.head()"
   ]
  },
  {
   "cell_type": "markdown",
   "metadata": {},
   "source": [
    "# Define growth"
   ]
  },
  {
   "cell_type": "code",
   "execution_count": 17,
   "metadata": {},
   "outputs": [],
   "source": [
    "def growth(x):\n",
    "    if x > 1 and x <=5:\n",
    "        return \"growth\"\n",
    "    elif x >5 and x<10:\n",
    "        return \"high growth\"\n",
    "    elif x>=10:\n",
    "        return \"very high growth\"\n",
    "    elif x>=-1 and x<=1:\n",
    "        return \"leveling off\"\n",
    "    else:\n",
    "        return \"cases decreasing\""
   ]
  },
  {
   "cell_type": "code",
   "execution_count": 18,
   "metadata": {},
   "outputs": [],
   "source": [
    "pct_change['trend'] = pct_change['change_trend'].apply(growth)"
   ]
  },
  {
   "cell_type": "code",
   "execution_count": 19,
   "metadata": {},
   "outputs": [
    {
     "data": {
      "text/plain": [
       "growth              2028\n",
       "leveling off         678\n",
       "high growth          361\n",
       "very high growth     100\n",
       "cases decreasing       9\n",
       "Name: trend, dtype: int64"
      ]
     },
     "execution_count": 19,
     "metadata": {},
     "output_type": "execute_result"
    }
   ],
   "source": [
    "pct_change.trend.value_counts()"
   ]
  },
  {
   "cell_type": "code",
   "execution_count": 20,
   "metadata": {},
   "outputs": [],
   "source": [
    "prev = len(data)\n",
    "data = data.merge(pct_change, how='left')\n",
    "assert(prev == len(data))"
   ]
  },
  {
   "cell_type": "code",
   "execution_count": 21,
   "metadata": {
    "scrolled": false
   },
   "outputs": [
    {
     "data": {
      "text/html": [
       "<div>\n",
       "<style scoped>\n",
       "    .dataframe tbody tr th:only-of-type {\n",
       "        vertical-align: middle;\n",
       "    }\n",
       "\n",
       "    .dataframe tbody tr th {\n",
       "        vertical-align: top;\n",
       "    }\n",
       "\n",
       "    .dataframe thead th {\n",
       "        text-align: right;\n",
       "    }\n",
       "</style>\n",
       "<table border=\"1\" class=\"dataframe\">\n",
       "  <thead>\n",
       "    <tr style=\"text-align: right;\">\n",
       "      <th></th>\n",
       "      <th>state_fips</th>\n",
       "      <th>state_name</th>\n",
       "      <th>county_name</th>\n",
       "      <th>area_name</th>\n",
       "      <th>lat</th>\n",
       "      <th>long</th>\n",
       "      <th>date</th>\n",
       "      <th>cases</th>\n",
       "      <th>deaths</th>\n",
       "      <th>county_fips</th>\n",
       "      <th>id2</th>\n",
       "      <th>population_estimate_2018</th>\n",
       "      <th>state_county</th>\n",
       "      <th>change_trend</th>\n",
       "      <th>trend</th>\n",
       "    </tr>\n",
       "  </thead>\n",
       "  <tbody>\n",
       "    <tr>\n",
       "      <th>362644</th>\n",
       "      <td>56</td>\n",
       "      <td>Wyoming</td>\n",
       "      <td>Fremont County</td>\n",
       "      <td></td>\n",
       "      <td>43.054831</td>\n",
       "      <td>-108.6089349</td>\n",
       "      <td>2020-07-11</td>\n",
       "      <td>384</td>\n",
       "      <td>9</td>\n",
       "      <td>56013</td>\n",
       "      <td>56013</td>\n",
       "      <td>39531</td>\n",
       "      <td>Wyoming, Fremont County</td>\n",
       "      <td>1.069512</td>\n",
       "      <td>growth</td>\n",
       "    </tr>\n",
       "    <tr>\n",
       "      <th>362645</th>\n",
       "      <td>56</td>\n",
       "      <td>Wyoming</td>\n",
       "      <td>Fremont County</td>\n",
       "      <td></td>\n",
       "      <td>43.054831</td>\n",
       "      <td>-108.6089349</td>\n",
       "      <td>2020-07-12</td>\n",
       "      <td>386</td>\n",
       "      <td>9</td>\n",
       "      <td>56013</td>\n",
       "      <td>56013</td>\n",
       "      <td>39531</td>\n",
       "      <td>Wyoming, Fremont County</td>\n",
       "      <td>1.069512</td>\n",
       "      <td>growth</td>\n",
       "    </tr>\n",
       "    <tr>\n",
       "      <th>362646</th>\n",
       "      <td>56</td>\n",
       "      <td>Wyoming</td>\n",
       "      <td>Fremont County</td>\n",
       "      <td></td>\n",
       "      <td>43.054831</td>\n",
       "      <td>-108.6089349</td>\n",
       "      <td>2020-07-13</td>\n",
       "      <td>387</td>\n",
       "      <td>9</td>\n",
       "      <td>56013</td>\n",
       "      <td>56013</td>\n",
       "      <td>39531</td>\n",
       "      <td>Wyoming, Fremont County</td>\n",
       "      <td>1.069512</td>\n",
       "      <td>growth</td>\n",
       "    </tr>\n",
       "    <tr>\n",
       "      <th>362647</th>\n",
       "      <td>56</td>\n",
       "      <td>Wyoming</td>\n",
       "      <td>Fremont County</td>\n",
       "      <td></td>\n",
       "      <td>43.054831</td>\n",
       "      <td>-108.6089349</td>\n",
       "      <td>2020-07-14</td>\n",
       "      <td>397</td>\n",
       "      <td>9</td>\n",
       "      <td>56013</td>\n",
       "      <td>56013</td>\n",
       "      <td>39531</td>\n",
       "      <td>Wyoming, Fremont County</td>\n",
       "      <td>1.069512</td>\n",
       "      <td>growth</td>\n",
       "    </tr>\n",
       "    <tr>\n",
       "      <th>362648</th>\n",
       "      <td>56</td>\n",
       "      <td>Wyoming</td>\n",
       "      <td>Fremont County</td>\n",
       "      <td></td>\n",
       "      <td>43.054831</td>\n",
       "      <td>-108.6089349</td>\n",
       "      <td>2020-07-15</td>\n",
       "      <td>407</td>\n",
       "      <td>9</td>\n",
       "      <td>56013</td>\n",
       "      <td>56013</td>\n",
       "      <td>39531</td>\n",
       "      <td>Wyoming, Fremont County</td>\n",
       "      <td>1.069512</td>\n",
       "      <td>growth</td>\n",
       "    </tr>\n",
       "  </tbody>\n",
       "</table>\n",
       "</div>"
      ],
      "text/plain": [
       "       state_fips state_name     county_name area_name        lat  \\\n",
       "362644         56    Wyoming  Fremont County            43.054831   \n",
       "362645         56    Wyoming  Fremont County            43.054831   \n",
       "362646         56    Wyoming  Fremont County            43.054831   \n",
       "362647         56    Wyoming  Fremont County            43.054831   \n",
       "362648         56    Wyoming  Fremont County            43.054831   \n",
       "\n",
       "                long       date  cases deaths  county_fips    id2  \\\n",
       "362644  -108.6089349 2020-07-11    384      9        56013  56013   \n",
       "362645  -108.6089349 2020-07-12    386      9        56013  56013   \n",
       "362646  -108.6089349 2020-07-13    387      9        56013  56013   \n",
       "362647  -108.6089349 2020-07-14    397      9        56013  56013   \n",
       "362648  -108.6089349 2020-07-15    407      9        56013  56013   \n",
       "\n",
       "        population_estimate_2018             state_county  change_trend  \\\n",
       "362644                     39531  Wyoming, Fremont County      1.069512   \n",
       "362645                     39531  Wyoming, Fremont County      1.069512   \n",
       "362646                     39531  Wyoming, Fremont County      1.069512   \n",
       "362647                     39531  Wyoming, Fremont County      1.069512   \n",
       "362648                     39531  Wyoming, Fremont County      1.069512   \n",
       "\n",
       "         trend  \n",
       "362644  growth  \n",
       "362645  growth  \n",
       "362646  growth  \n",
       "362647  growth  \n",
       "362648  growth  "
      ]
     },
     "execution_count": 21,
     "metadata": {},
     "output_type": "execute_result"
    }
   ],
   "source": [
    "data.tail()"
   ]
  },
  {
   "cell_type": "markdown",
   "metadata": {},
   "source": [
    "# Calculate current cases per hundred thousand population"
   ]
  },
  {
   "cell_type": "code",
   "execution_count": 22,
   "metadata": {},
   "outputs": [],
   "source": [
    "# number of cases per hundred thousand population\n",
    "data['cases_per_hud_thousand'] = data['cases']/data['population_estimate_2018'] *100000"
   ]
  },
  {
   "cell_type": "code",
   "execution_count": 23,
   "metadata": {
    "scrolled": true
   },
   "outputs": [
    {
     "data": {
      "text/html": [
       "<div>\n",
       "<style scoped>\n",
       "    .dataframe tbody tr th:only-of-type {\n",
       "        vertical-align: middle;\n",
       "    }\n",
       "\n",
       "    .dataframe tbody tr th {\n",
       "        vertical-align: top;\n",
       "    }\n",
       "\n",
       "    .dataframe thead th {\n",
       "        text-align: right;\n",
       "    }\n",
       "</style>\n",
       "<table border=\"1\" class=\"dataframe\">\n",
       "  <thead>\n",
       "    <tr style=\"text-align: right;\">\n",
       "      <th></th>\n",
       "      <th>state_fips</th>\n",
       "      <th>state_name</th>\n",
       "      <th>county_name</th>\n",
       "      <th>area_name</th>\n",
       "      <th>lat</th>\n",
       "      <th>long</th>\n",
       "      <th>date</th>\n",
       "      <th>cases</th>\n",
       "      <th>deaths</th>\n",
       "      <th>county_fips</th>\n",
       "      <th>id2</th>\n",
       "      <th>population_estimate_2018</th>\n",
       "      <th>state_county</th>\n",
       "      <th>change_trend</th>\n",
       "      <th>trend</th>\n",
       "      <th>cases_per_hud_thousand</th>\n",
       "    </tr>\n",
       "  </thead>\n",
       "  <tbody>\n",
       "    <tr>\n",
       "      <th>0</th>\n",
       "      <td>01</td>\n",
       "      <td>Alabama</td>\n",
       "      <td>Franklin County</td>\n",
       "      <td></td>\n",
       "      <td>34.4419892</td>\n",
       "      <td>-87.8428144</td>\n",
       "      <td>2020-03-25</td>\n",
       "      <td>2</td>\n",
       "      <td>0</td>\n",
       "      <td>1059</td>\n",
       "      <td>1059</td>\n",
       "      <td>31363</td>\n",
       "      <td>Alabama, Franklin County</td>\n",
       "      <td>-10.335184</td>\n",
       "      <td>cases decreasing</td>\n",
       "      <td>6.376941</td>\n",
       "    </tr>\n",
       "    <tr>\n",
       "      <th>1</th>\n",
       "      <td>01</td>\n",
       "      <td>Alabama</td>\n",
       "      <td>Franklin County</td>\n",
       "      <td></td>\n",
       "      <td>34.4419892</td>\n",
       "      <td>-87.8428144</td>\n",
       "      <td>2020-03-26</td>\n",
       "      <td>3</td>\n",
       "      <td>0</td>\n",
       "      <td>1059</td>\n",
       "      <td>1059</td>\n",
       "      <td>31363</td>\n",
       "      <td>Alabama, Franklin County</td>\n",
       "      <td>-10.335184</td>\n",
       "      <td>cases decreasing</td>\n",
       "      <td>9.565411</td>\n",
       "    </tr>\n",
       "    <tr>\n",
       "      <th>2</th>\n",
       "      <td>01</td>\n",
       "      <td>Alabama</td>\n",
       "      <td>Franklin County</td>\n",
       "      <td></td>\n",
       "      <td>34.4419892</td>\n",
       "      <td>-87.8428144</td>\n",
       "      <td>2020-03-27</td>\n",
       "      <td>3</td>\n",
       "      <td>0</td>\n",
       "      <td>1059</td>\n",
       "      <td>1059</td>\n",
       "      <td>31363</td>\n",
       "      <td>Alabama, Franklin County</td>\n",
       "      <td>-10.335184</td>\n",
       "      <td>cases decreasing</td>\n",
       "      <td>9.565411</td>\n",
       "    </tr>\n",
       "    <tr>\n",
       "      <th>3</th>\n",
       "      <td>01</td>\n",
       "      <td>Alabama</td>\n",
       "      <td>Franklin County</td>\n",
       "      <td></td>\n",
       "      <td>34.4419892</td>\n",
       "      <td>-87.8428144</td>\n",
       "      <td>2020-03-28</td>\n",
       "      <td>3</td>\n",
       "      <td>0</td>\n",
       "      <td>1059</td>\n",
       "      <td>1059</td>\n",
       "      <td>31363</td>\n",
       "      <td>Alabama, Franklin County</td>\n",
       "      <td>-10.335184</td>\n",
       "      <td>cases decreasing</td>\n",
       "      <td>9.565411</td>\n",
       "    </tr>\n",
       "    <tr>\n",
       "      <th>4</th>\n",
       "      <td>01</td>\n",
       "      <td>Alabama</td>\n",
       "      <td>Franklin County</td>\n",
       "      <td></td>\n",
       "      <td>34.4419892</td>\n",
       "      <td>-87.8428144</td>\n",
       "      <td>2020-03-29</td>\n",
       "      <td>3</td>\n",
       "      <td>0</td>\n",
       "      <td>1059</td>\n",
       "      <td>1059</td>\n",
       "      <td>31363</td>\n",
       "      <td>Alabama, Franklin County</td>\n",
       "      <td>-10.335184</td>\n",
       "      <td>cases decreasing</td>\n",
       "      <td>9.565411</td>\n",
       "    </tr>\n",
       "  </tbody>\n",
       "</table>\n",
       "</div>"
      ],
      "text/plain": [
       "  state_fips state_name      county_name area_name         lat         long  \\\n",
       "0         01    Alabama  Franklin County            34.4419892  -87.8428144   \n",
       "1         01    Alabama  Franklin County            34.4419892  -87.8428144   \n",
       "2         01    Alabama  Franklin County            34.4419892  -87.8428144   \n",
       "3         01    Alabama  Franklin County            34.4419892  -87.8428144   \n",
       "4         01    Alabama  Franklin County            34.4419892  -87.8428144   \n",
       "\n",
       "        date  cases deaths  county_fips   id2  population_estimate_2018  \\\n",
       "0 2020-03-25      2      0         1059  1059                     31363   \n",
       "1 2020-03-26      3      0         1059  1059                     31363   \n",
       "2 2020-03-27      3      0         1059  1059                     31363   \n",
       "3 2020-03-28      3      0         1059  1059                     31363   \n",
       "4 2020-03-29      3      0         1059  1059                     31363   \n",
       "\n",
       "               state_county  change_trend             trend  \\\n",
       "0  Alabama, Franklin County    -10.335184  cases decreasing   \n",
       "1  Alabama, Franklin County    -10.335184  cases decreasing   \n",
       "2  Alabama, Franklin County    -10.335184  cases decreasing   \n",
       "3  Alabama, Franklin County    -10.335184  cases decreasing   \n",
       "4  Alabama, Franklin County    -10.335184  cases decreasing   \n",
       "\n",
       "   cases_per_hud_thousand  \n",
       "0                6.376941  \n",
       "1                9.565411  \n",
       "2                9.565411  \n",
       "3                9.565411  \n",
       "4                9.565411  "
      ]
     },
     "execution_count": 23,
     "metadata": {},
     "output_type": "execute_result"
    }
   ],
   "source": [
    "data.head()"
   ]
  },
  {
   "cell_type": "code",
   "execution_count": 24,
   "metadata": {},
   "outputs": [],
   "source": [
    "# taking the mean of last two cases to calculate current cases per hundred thousand population\n",
    "cases_thou = data.groupby('state_county').apply(\n",
    "    lambda x: x['cases_per_hud_thousand'][-2:].mean()).reset_index()"
   ]
  },
  {
   "cell_type": "code",
   "execution_count": 25,
   "metadata": {},
   "outputs": [],
   "source": [
    "cases_thou.columns = ['state_county', 'current_cases_per_hund_thou']"
   ]
  },
  {
   "cell_type": "code",
   "execution_count": 26,
   "metadata": {},
   "outputs": [],
   "source": [
    "quartiles = cases_thou['current_cases_per_hund_thou'].quantile([0.25, 0.75], interpolation='nearest')\n",
    "q1 = list(quartiles)[0]\n",
    "q2 = list(quartiles)[1]\n",
    "med = cases_thou['current_cases_per_hund_thou'].median()"
   ]
  },
  {
   "cell_type": "code",
   "execution_count": 27,
   "metadata": {},
   "outputs": [],
   "source": [
    "# defining high and low cases based on the quartiles\n",
    "def cases_thousands(x):\n",
    "    if x > q2:\n",
    "        return 'very high cases'\n",
    "    elif x>med and x<q2:\n",
    "        return 'high cases'\n",
    "    elif x<med and x>q1:\n",
    "        return 'relatively low cases'\n",
    "    else:\n",
    "        return 'relatively very low cases'"
   ]
  },
  {
   "cell_type": "code",
   "execution_count": 28,
   "metadata": {},
   "outputs": [],
   "source": [
    "cases_thou['current_number_cases_category'] = cases_thou['current_cases_per_hund_thou'].apply(cases_thousands)"
   ]
  },
  {
   "cell_type": "code",
   "execution_count": 29,
   "metadata": {},
   "outputs": [
    {
     "data": {
      "text/html": [
       "<div>\n",
       "<style scoped>\n",
       "    .dataframe tbody tr th:only-of-type {\n",
       "        vertical-align: middle;\n",
       "    }\n",
       "\n",
       "    .dataframe tbody tr th {\n",
       "        vertical-align: top;\n",
       "    }\n",
       "\n",
       "    .dataframe thead th {\n",
       "        text-align: right;\n",
       "    }\n",
       "</style>\n",
       "<table border=\"1\" class=\"dataframe\">\n",
       "  <thead>\n",
       "    <tr style=\"text-align: right;\">\n",
       "      <th></th>\n",
       "      <th>state_county</th>\n",
       "      <th>current_cases_per_hund_thou</th>\n",
       "      <th>current_number_cases_category</th>\n",
       "    </tr>\n",
       "  </thead>\n",
       "  <tbody>\n",
       "    <tr>\n",
       "      <th>0</th>\n",
       "      <td>Alabama, Autauga County</td>\n",
       "      <td>1642.056798</td>\n",
       "      <td>very high cases</td>\n",
       "    </tr>\n",
       "    <tr>\n",
       "      <th>1</th>\n",
       "      <td>Alabama, Baldwin County</td>\n",
       "      <td>1140.710570</td>\n",
       "      <td>very high cases</td>\n",
       "    </tr>\n",
       "    <tr>\n",
       "      <th>2</th>\n",
       "      <td>Alabama, Barbour County</td>\n",
       "      <td>2156.263816</td>\n",
       "      <td>very high cases</td>\n",
       "    </tr>\n",
       "    <tr>\n",
       "      <th>3</th>\n",
       "      <td>Alabama, Bibb County</td>\n",
       "      <td>1321.428571</td>\n",
       "      <td>very high cases</td>\n",
       "    </tr>\n",
       "    <tr>\n",
       "      <th>4</th>\n",
       "      <td>Alabama, Blount County</td>\n",
       "      <td>1037.344398</td>\n",
       "      <td>high cases</td>\n",
       "    </tr>\n",
       "  </tbody>\n",
       "</table>\n",
       "</div>"
      ],
      "text/plain": [
       "              state_county  current_cases_per_hund_thou  \\\n",
       "0  Alabama, Autauga County                  1642.056798   \n",
       "1  Alabama, Baldwin County                  1140.710570   \n",
       "2  Alabama, Barbour County                  2156.263816   \n",
       "3     Alabama, Bibb County                  1321.428571   \n",
       "4   Alabama, Blount County                  1037.344398   \n",
       "\n",
       "  current_number_cases_category  \n",
       "0               very high cases  \n",
       "1               very high cases  \n",
       "2               very high cases  \n",
       "3               very high cases  \n",
       "4                    high cases  "
      ]
     },
     "execution_count": 29,
     "metadata": {},
     "output_type": "execute_result"
    }
   ],
   "source": [
    "cases_thou.head()"
   ]
  },
  {
   "cell_type": "code",
   "execution_count": 30,
   "metadata": {},
   "outputs": [
    {
     "data": {
      "text/plain": [
       "relatively very low cases    796\n",
       "very high cases              794\n",
       "relatively low cases         793\n",
       "high cases                   793\n",
       "Name: current_number_cases_category, dtype: int64"
      ]
     },
     "execution_count": 30,
     "metadata": {},
     "output_type": "execute_result"
    }
   ],
   "source": [
    "cases_thou.current_number_cases_category.value_counts()"
   ]
  },
  {
   "cell_type": "code",
   "execution_count": 31,
   "metadata": {},
   "outputs": [
    {
     "data": {
      "text/html": [
       "<div>\n",
       "<style scoped>\n",
       "    .dataframe tbody tr th:only-of-type {\n",
       "        vertical-align: middle;\n",
       "    }\n",
       "\n",
       "    .dataframe tbody tr th {\n",
       "        vertical-align: top;\n",
       "    }\n",
       "\n",
       "    .dataframe thead th {\n",
       "        text-align: right;\n",
       "    }\n",
       "</style>\n",
       "<table border=\"1\" class=\"dataframe\">\n",
       "  <thead>\n",
       "    <tr style=\"text-align: right;\">\n",
       "      <th></th>\n",
       "      <th>state_county</th>\n",
       "      <th>current_cases_per_hund_thou</th>\n",
       "      <th>current_number_cases_category</th>\n",
       "    </tr>\n",
       "  </thead>\n",
       "  <tbody>\n",
       "    <tr>\n",
       "      <th>29</th>\n",
       "      <td>Alabama, Franklin County</td>\n",
       "      <td>3.188470</td>\n",
       "      <td>relatively very low cases</td>\n",
       "    </tr>\n",
       "    <tr>\n",
       "      <th>67</th>\n",
       "      <td>Alaska, Aleutians East Borough</td>\n",
       "      <td>85.348506</td>\n",
       "      <td>relatively very low cases</td>\n",
       "    </tr>\n",
       "    <tr>\n",
       "      <th>70</th>\n",
       "      <td>Alaska, Bethel Census Area</td>\n",
       "      <td>107.048748</td>\n",
       "      <td>relatively very low cases</td>\n",
       "    </tr>\n",
       "    <tr>\n",
       "      <th>72</th>\n",
       "      <td>Alaska, Denali Borough</td>\n",
       "      <td>145.701797</td>\n",
       "      <td>relatively very low cases</td>\n",
       "    </tr>\n",
       "    <tr>\n",
       "      <th>79</th>\n",
       "      <td>Alaska, Kodiak Island Borough</td>\n",
       "      <td>104.908205</td>\n",
       "      <td>relatively very low cases</td>\n",
       "    </tr>\n",
       "  </tbody>\n",
       "</table>\n",
       "</div>"
      ],
      "text/plain": [
       "                      state_county  current_cases_per_hund_thou  \\\n",
       "29        Alabama, Franklin County                     3.188470   \n",
       "67  Alaska, Aleutians East Borough                    85.348506   \n",
       "70      Alaska, Bethel Census Area                   107.048748   \n",
       "72          Alaska, Denali Borough                   145.701797   \n",
       "79   Alaska, Kodiak Island Borough                   104.908205   \n",
       "\n",
       "   current_number_cases_category  \n",
       "29     relatively very low cases  \n",
       "67     relatively very low cases  \n",
       "70     relatively very low cases  \n",
       "72     relatively very low cases  \n",
       "79     relatively very low cases  "
      ]
     },
     "execution_count": 31,
     "metadata": {},
     "output_type": "execute_result"
    }
   ],
   "source": [
    "cases_thou[cases_thou.current_number_cases_category=='relatively very low cases'].head()"
   ]
  },
  {
   "cell_type": "code",
   "execution_count": 32,
   "metadata": {},
   "outputs": [],
   "source": [
    "prev = len(data)\n",
    "data = data.merge(cases_thou, how='left')\n",
    "assert(prev == len(data))"
   ]
  },
  {
   "cell_type": "code",
   "execution_count": 33,
   "metadata": {},
   "outputs": [
    {
     "data": {
      "text/html": [
       "<div>\n",
       "<style scoped>\n",
       "    .dataframe tbody tr th:only-of-type {\n",
       "        vertical-align: middle;\n",
       "    }\n",
       "\n",
       "    .dataframe tbody tr th {\n",
       "        vertical-align: top;\n",
       "    }\n",
       "\n",
       "    .dataframe thead th {\n",
       "        text-align: right;\n",
       "    }\n",
       "</style>\n",
       "<table border=\"1\" class=\"dataframe\">\n",
       "  <thead>\n",
       "    <tr style=\"text-align: right;\">\n",
       "      <th></th>\n",
       "      <th>state_fips</th>\n",
       "      <th>state_name</th>\n",
       "      <th>county_name</th>\n",
       "      <th>area_name</th>\n",
       "      <th>lat</th>\n",
       "      <th>long</th>\n",
       "      <th>date</th>\n",
       "      <th>cases</th>\n",
       "      <th>deaths</th>\n",
       "      <th>county_fips</th>\n",
       "      <th>id2</th>\n",
       "      <th>population_estimate_2018</th>\n",
       "      <th>state_county</th>\n",
       "      <th>change_trend</th>\n",
       "      <th>trend</th>\n",
       "      <th>cases_per_hud_thousand</th>\n",
       "      <th>current_cases_per_hund_thou</th>\n",
       "      <th>current_number_cases_category</th>\n",
       "    </tr>\n",
       "  </thead>\n",
       "  <tbody>\n",
       "    <tr>\n",
       "      <th>362644</th>\n",
       "      <td>56</td>\n",
       "      <td>Wyoming</td>\n",
       "      <td>Fremont County</td>\n",
       "      <td></td>\n",
       "      <td>43.054831</td>\n",
       "      <td>-108.6089349</td>\n",
       "      <td>2020-07-11</td>\n",
       "      <td>384</td>\n",
       "      <td>9</td>\n",
       "      <td>56013</td>\n",
       "      <td>56013</td>\n",
       "      <td>39531</td>\n",
       "      <td>Wyoming, Fremont County</td>\n",
       "      <td>1.069512</td>\n",
       "      <td>growth</td>\n",
       "      <td>971.389542</td>\n",
       "      <td>1016.923427</td>\n",
       "      <td>high cases</td>\n",
       "    </tr>\n",
       "    <tr>\n",
       "      <th>362645</th>\n",
       "      <td>56</td>\n",
       "      <td>Wyoming</td>\n",
       "      <td>Fremont County</td>\n",
       "      <td></td>\n",
       "      <td>43.054831</td>\n",
       "      <td>-108.6089349</td>\n",
       "      <td>2020-07-12</td>\n",
       "      <td>386</td>\n",
       "      <td>9</td>\n",
       "      <td>56013</td>\n",
       "      <td>56013</td>\n",
       "      <td>39531</td>\n",
       "      <td>Wyoming, Fremont County</td>\n",
       "      <td>1.069512</td>\n",
       "      <td>growth</td>\n",
       "      <td>976.448863</td>\n",
       "      <td>1016.923427</td>\n",
       "      <td>high cases</td>\n",
       "    </tr>\n",
       "    <tr>\n",
       "      <th>362646</th>\n",
       "      <td>56</td>\n",
       "      <td>Wyoming</td>\n",
       "      <td>Fremont County</td>\n",
       "      <td></td>\n",
       "      <td>43.054831</td>\n",
       "      <td>-108.6089349</td>\n",
       "      <td>2020-07-13</td>\n",
       "      <td>387</td>\n",
       "      <td>9</td>\n",
       "      <td>56013</td>\n",
       "      <td>56013</td>\n",
       "      <td>39531</td>\n",
       "      <td>Wyoming, Fremont County</td>\n",
       "      <td>1.069512</td>\n",
       "      <td>growth</td>\n",
       "      <td>978.978523</td>\n",
       "      <td>1016.923427</td>\n",
       "      <td>high cases</td>\n",
       "    </tr>\n",
       "    <tr>\n",
       "      <th>362647</th>\n",
       "      <td>56</td>\n",
       "      <td>Wyoming</td>\n",
       "      <td>Fremont County</td>\n",
       "      <td></td>\n",
       "      <td>43.054831</td>\n",
       "      <td>-108.6089349</td>\n",
       "      <td>2020-07-14</td>\n",
       "      <td>397</td>\n",
       "      <td>9</td>\n",
       "      <td>56013</td>\n",
       "      <td>56013</td>\n",
       "      <td>39531</td>\n",
       "      <td>Wyoming, Fremont County</td>\n",
       "      <td>1.069512</td>\n",
       "      <td>growth</td>\n",
       "      <td>1004.275126</td>\n",
       "      <td>1016.923427</td>\n",
       "      <td>high cases</td>\n",
       "    </tr>\n",
       "    <tr>\n",
       "      <th>362648</th>\n",
       "      <td>56</td>\n",
       "      <td>Wyoming</td>\n",
       "      <td>Fremont County</td>\n",
       "      <td></td>\n",
       "      <td>43.054831</td>\n",
       "      <td>-108.6089349</td>\n",
       "      <td>2020-07-15</td>\n",
       "      <td>407</td>\n",
       "      <td>9</td>\n",
       "      <td>56013</td>\n",
       "      <td>56013</td>\n",
       "      <td>39531</td>\n",
       "      <td>Wyoming, Fremont County</td>\n",
       "      <td>1.069512</td>\n",
       "      <td>growth</td>\n",
       "      <td>1029.571729</td>\n",
       "      <td>1016.923427</td>\n",
       "      <td>high cases</td>\n",
       "    </tr>\n",
       "  </tbody>\n",
       "</table>\n",
       "</div>"
      ],
      "text/plain": [
       "       state_fips state_name     county_name area_name        lat  \\\n",
       "362644         56    Wyoming  Fremont County            43.054831   \n",
       "362645         56    Wyoming  Fremont County            43.054831   \n",
       "362646         56    Wyoming  Fremont County            43.054831   \n",
       "362647         56    Wyoming  Fremont County            43.054831   \n",
       "362648         56    Wyoming  Fremont County            43.054831   \n",
       "\n",
       "                long       date  cases deaths  county_fips    id2  \\\n",
       "362644  -108.6089349 2020-07-11    384      9        56013  56013   \n",
       "362645  -108.6089349 2020-07-12    386      9        56013  56013   \n",
       "362646  -108.6089349 2020-07-13    387      9        56013  56013   \n",
       "362647  -108.6089349 2020-07-14    397      9        56013  56013   \n",
       "362648  -108.6089349 2020-07-15    407      9        56013  56013   \n",
       "\n",
       "        population_estimate_2018             state_county  change_trend  \\\n",
       "362644                     39531  Wyoming, Fremont County      1.069512   \n",
       "362645                     39531  Wyoming, Fremont County      1.069512   \n",
       "362646                     39531  Wyoming, Fremont County      1.069512   \n",
       "362647                     39531  Wyoming, Fremont County      1.069512   \n",
       "362648                     39531  Wyoming, Fremont County      1.069512   \n",
       "\n",
       "         trend  cases_per_hud_thousand  current_cases_per_hund_thou  \\\n",
       "362644  growth              971.389542                  1016.923427   \n",
       "362645  growth              976.448863                  1016.923427   \n",
       "362646  growth              978.978523                  1016.923427   \n",
       "362647  growth             1004.275126                  1016.923427   \n",
       "362648  growth             1029.571729                  1016.923427   \n",
       "\n",
       "       current_number_cases_category  \n",
       "362644                    high cases  \n",
       "362645                    high cases  \n",
       "362646                    high cases  \n",
       "362647                    high cases  \n",
       "362648                    high cases  "
      ]
     },
     "execution_count": 33,
     "metadata": {},
     "output_type": "execute_result"
    }
   ],
   "source": [
    "data.tail()"
   ]
  },
  {
   "cell_type": "markdown",
   "metadata": {},
   "source": [
    "# Shuffle counties"
   ]
  },
  {
   "cell_type": "code",
   "execution_count": 34,
   "metadata": {
    "scrolled": false
   },
   "outputs": [],
   "source": [
    "all_state_county = list(data['state_county'].unique())"
   ]
  },
  {
   "cell_type": "code",
   "execution_count": 35,
   "metadata": {},
   "outputs": [],
   "source": [
    "import random\n",
    "random.shuffle(all_state_county)"
   ]
  },
  {
   "cell_type": "code",
   "execution_count": 36,
   "metadata": {},
   "outputs": [],
   "source": [
    "all_state_county = all_state_county[0:20]"
   ]
  },
  {
   "cell_type": "code",
   "execution_count": 59,
   "metadata": {},
   "outputs": [],
   "source": [
    "all_state_county = ['Texas, Dimmit County',\n",
    " 'New Mexico, Luna County',\n",
    " 'New Jersey, Hunterdon County',\n",
    " 'California, San Luis Obispo County',\n",
    " 'Nebraska, Otoe County',\n",
    " 'Nevada, Washoe County',\n",
    " 'Texas, Archer County',\n",
    " 'Texas, Deaf Smith County',\n",
    " 'Georgia, Jasper County',\n",
    " 'Michigan, Isabella County',\n",
    " 'Georgia, Jones County',\n",
    " 'Florida, Calhoun County',\n",
    " 'Nebraska, Valley County',\n",
    " 'West Virginia, Boone County',\n",
    " 'North Carolina, Craven County',\n",
    " 'Minnesota, Redwood County',\n",
    " 'Michigan, Alpena County',\n",
    " 'Arizona, Pima County',\n",
    " 'Iowa, Butler County',\n",
    " 'Michigan, Calhoun County']"
   ]
  },
  {
   "cell_type": "markdown",
   "metadata": {},
   "source": [
    "# Check time series with one county"
   ]
  },
  {
   "cell_type": "code",
   "execution_count": 60,
   "metadata": {},
   "outputs": [],
   "source": [
    "ts = data[data['state_county']==all_state_county[0]].copy()"
   ]
  },
  {
   "cell_type": "code",
   "execution_count": 61,
   "metadata": {},
   "outputs": [],
   "source": [
    "county_name =  all_state_county[9]\n",
    "ts = data[data['state_county']==county_name].copy()\n",
    "ts = ts[['date', 'cases']].copy()\n",
    "ts.date = pd.to_datetime(ts.date)\n",
    "#ts = ts.set_index(['date'])\n",
    "ts.cases = ts.cases.astype(int)"
   ]
  },
  {
   "cell_type": "code",
   "execution_count": 62,
   "metadata": {},
   "outputs": [
    {
     "data": {
      "text/plain": [
       "'Michigan, Isabella County'"
      ]
     },
     "execution_count": 62,
     "metadata": {},
     "output_type": "execute_result"
    }
   ],
   "source": [
    "all_state_county[9]"
   ]
  },
  {
   "cell_type": "code",
   "execution_count": 63,
   "metadata": {},
   "outputs": [
    {
     "data": {
      "text/plain": [
       "<matplotlib.axes._subplots.AxesSubplot at 0x28058673f08>"
      ]
     },
     "execution_count": 63,
     "metadata": {},
     "output_type": "execute_result"
    },
    {
     "data": {
      "image/png": "[encoded data removed]",
      "text/plain": [
       "<Figure size 432x288 with 1 Axes>"
      ]
     },
     "metadata": {
      "needs_background": "light"
     },
     "output_type": "display_data"
    }
   ],
   "source": [
    "ts_check = ts.set_index('date')\n",
    "ts_check.plot()"
   ]
  },
  {
   "cell_type": "code",
   "execution_count": 64,
   "metadata": {},
   "outputs": [
    {
     "data": {
      "text/html": [
       "<div>\n",
       "<style scoped>\n",
       "    .dataframe tbody tr th:only-of-type {\n",
       "        vertical-align: middle;\n",
       "    }\n",
       "\n",
       "    .dataframe tbody tr th {\n",
       "        vertical-align: top;\n",
       "    }\n",
       "\n",
       "    .dataframe thead th {\n",
       "        text-align: right;\n",
       "    }\n",
       "</style>\n",
       "<table border=\"1\" class=\"dataframe\">\n",
       "  <thead>\n",
       "    <tr style=\"text-align: right;\">\n",
       "      <th></th>\n",
       "      <th>date</th>\n",
       "      <th>cases</th>\n",
       "    </tr>\n",
       "  </thead>\n",
       "  <tbody>\n",
       "    <tr>\n",
       "      <th>153321</th>\n",
       "      <td>2020-07-20</td>\n",
       "      <td>184</td>\n",
       "    </tr>\n",
       "    <tr>\n",
       "      <th>153322</th>\n",
       "      <td>2020-07-21</td>\n",
       "      <td>185</td>\n",
       "    </tr>\n",
       "    <tr>\n",
       "      <th>153323</th>\n",
       "      <td>2020-07-22</td>\n",
       "      <td>186</td>\n",
       "    </tr>\n",
       "    <tr>\n",
       "      <th>153324</th>\n",
       "      <td>2020-07-23</td>\n",
       "      <td>188</td>\n",
       "    </tr>\n",
       "    <tr>\n",
       "      <th>153325</th>\n",
       "      <td>2020-07-24</td>\n",
       "      <td>191</td>\n",
       "    </tr>\n",
       "  </tbody>\n",
       "</table>\n",
       "</div>"
      ],
      "text/plain": [
       "             date  cases\n",
       "153321 2020-07-20    184\n",
       "153322 2020-07-21    185\n",
       "153323 2020-07-22    186\n",
       "153324 2020-07-23    188\n",
       "153325 2020-07-24    191"
      ]
     },
     "execution_count": 64,
     "metadata": {},
     "output_type": "execute_result"
    }
   ],
   "source": [
    "ts.tail()"
   ]
  },
  {
   "cell_type": "markdown",
   "metadata": {},
   "source": [
    "# Prophet model"
   ]
  },
  {
   "cell_type": "code",
   "execution_count": 65,
   "metadata": {
    "scrolled": true
   },
   "outputs": [
    {
     "name": "stderr",
     "output_type": "stream",
     "text": [
      "INFO:fbprophet:Disabling yearly seasonality. Run prophet with yearly_seasonality=True to override this.\n",
      "INFO:fbprophet:Disabling daily seasonality. Run prophet with daily_seasonality=True to override this.\n",
      "INFO:fbprophet:Disabling yearly seasonality. Run prophet with yearly_seasonality=True to override this.\n",
      "INFO:fbprophet:Disabling daily seasonality. Run prophet with daily_seasonality=True to override this.\n",
      "INFO:fbprophet:Disabling yearly seasonality. Run prophet with yearly_seasonality=True to override this.\n",
      "INFO:fbprophet:Disabling daily seasonality. Run prophet with daily_seasonality=True to override this.\n",
      "INFO:fbprophet:Disabling yearly seasonality. Run prophet with yearly_seasonality=True to override this.\n",
      "INFO:fbprophet:Disabling daily seasonality. Run prophet with daily_seasonality=True to override this.\n",
      "INFO:fbprophet:Disabling yearly seasonality. Run prophet with yearly_seasonality=True to override this.\n",
      "INFO:fbprophet:Disabling daily seasonality. Run prophet with daily_seasonality=True to override this.\n",
      "INFO:fbprophet:Disabling yearly seasonality. Run prophet with yearly_seasonality=True to override this.\n",
      "INFO:fbprophet:Disabling daily seasonality. Run prophet with daily_seasonality=True to override this.\n",
      "INFO:fbprophet:Disabling yearly seasonality. Run prophet with yearly_seasonality=True to override this.\n",
      "INFO:fbprophet:Disabling daily seasonality. Run prophet with daily_seasonality=True to override this.\n",
      "INFO:fbprophet:Disabling yearly seasonality. Run prophet with yearly_seasonality=True to override this.\n",
      "INFO:fbprophet:Disabling daily seasonality. Run prophet with daily_seasonality=True to override this.\n",
      "INFO:fbprophet:Disabling yearly seasonality. Run prophet with yearly_seasonality=True to override this.\n",
      "INFO:fbprophet:Disabling daily seasonality. Run prophet with daily_seasonality=True to override this.\n",
      "INFO:fbprophet:Disabling yearly seasonality. Run prophet with yearly_seasonality=True to override this.\n",
      "INFO:fbprophet:Disabling daily seasonality. Run prophet with daily_seasonality=True to override this.\n",
      "INFO:fbprophet:Disabling yearly seasonality. Run prophet with yearly_seasonality=True to override this.\n",
      "INFO:fbprophet:Disabling daily seasonality. Run prophet with daily_seasonality=True to override this.\n",
      "INFO:fbprophet:Disabling yearly seasonality. Run prophet with yearly_seasonality=True to override this.\n",
      "INFO:fbprophet:Disabling daily seasonality. Run prophet with daily_seasonality=True to override this.\n",
      "INFO:fbprophet:Disabling yearly seasonality. Run prophet with yearly_seasonality=True to override this.\n",
      "INFO:fbprophet:Disabling daily seasonality. Run prophet with daily_seasonality=True to override this.\n",
      "INFO:fbprophet:Disabling yearly seasonality. Run prophet with yearly_seasonality=True to override this.\n",
      "INFO:fbprophet:Disabling daily seasonality. Run prophet with daily_seasonality=True to override this.\n",
      "INFO:fbprophet:Disabling yearly seasonality. Run prophet with yearly_seasonality=True to override this.\n",
      "INFO:fbprophet:Disabling daily seasonality. Run prophet with daily_seasonality=True to override this.\n",
      "INFO:fbprophet:Disabling yearly seasonality. Run prophet with yearly_seasonality=True to override this.\n",
      "INFO:fbprophet:Disabling daily seasonality. Run prophet with daily_seasonality=True to override this.\n",
      "INFO:fbprophet:Disabling yearly seasonality. Run prophet with yearly_seasonality=True to override this.\n",
      "INFO:fbprophet:Disabling daily seasonality. Run prophet with daily_seasonality=True to override this.\n",
      "INFO:fbprophet:Disabling yearly seasonality. Run prophet with yearly_seasonality=True to override this.\n",
      "INFO:fbprophet:Disabling daily seasonality. Run prophet with daily_seasonality=True to override this.\n",
      "INFO:fbprophet:Disabling yearly seasonality. Run prophet with yearly_seasonality=True to override this.\n",
      "INFO:fbprophet:Disabling daily seasonality. Run prophet with daily_seasonality=True to override this.\n",
      "INFO:fbprophet:Disabling yearly seasonality. Run prophet with yearly_seasonality=True to override this.\n",
      "INFO:fbprophet:Disabling daily seasonality. Run prophet with daily_seasonality=True to override this.\n"
     ]
    }
   ],
   "source": [
    "# Create prophet model for each county and use date only after '2020-06-01'\n",
    "df = pd.DataFrame()\n",
    "for ii in all_state_county:\n",
    "    ts = data[data['state_county']==ii].copy()\n",
    "    # use only date after 2020-06-01\n",
    "    ts = ts[ts.date >=pd.to_datetime('2020-06-01')].copy()\n",
    "    capacity = ts.population_estimate_2018.mean()/2.# carrying capavity\n",
    "    int_df = ts.copy()\n",
    "    ts = ts[:-10].copy()\n",
    "    # check the baseline of last value moving forward\n",
    "    last_val_forward = ts['cases'][-1:].values[0]  \n",
    "    ts = ts[['date', 'cases']].copy()\n",
    "    ts.date = pd.to_datetime(ts.date)\n",
    "    ts.columns = ['ds', 'y']\n",
    "    ts['cap'] = capacity\n",
    "    model = Prophet(growth = 'logistic')  # can also specify seasonality-multplicative in the model\n",
    "    model.fit(ts)\n",
    "    future = model.make_future_dataframe(periods=10,freq = 'D')\n",
    "    future['cap'] = capacity\n",
    "    forecast = model.predict(future)\n",
    "    fcast = forecast[['ds', 'yhat']].copy()\n",
    "    fcast.columns = ['date','predicted_cases']\n",
    "    int_df['date'] = list(fcast.date)\n",
    "    int_df['predicted_cases'] = list(fcast.predicted_cases)\n",
    "    acc = 100.-abs(int_df['cases'][-10:]-int_df['predicted_cases'][-10:])/(int_df['cases'][-10:])*100\n",
    "    int_df['accuracy'] = acc.mean()\n",
    "    int_df['baseline_accuracy'] = 100.-abs(int_df['cases'][-10:]-last_val_forward)/(int_df['cases'][-10:])*100\n",
    "    df = pd.concat([df,int_df])"
   ]
  },
  {
   "cell_type": "code",
   "execution_count": 66,
   "metadata": {},
   "outputs": [
    {
     "data": {
      "text/plain": [
       "54"
      ]
     },
     "execution_count": 66,
     "metadata": {},
     "output_type": "execute_result"
    }
   ],
   "source": [
    "len(int_df)"
   ]
  },
  {
   "cell_type": "code",
   "execution_count": 67,
   "metadata": {
    "scrolled": true
   },
   "outputs": [
    {
     "data": {
      "text/html": [
       "<div>\n",
       "<style scoped>\n",
       "    .dataframe tbody tr th:only-of-type {\n",
       "        vertical-align: middle;\n",
       "    }\n",
       "\n",
       "    .dataframe tbody tr th {\n",
       "        vertical-align: top;\n",
       "    }\n",
       "\n",
       "    .dataframe thead th {\n",
       "        text-align: right;\n",
       "    }\n",
       "</style>\n",
       "<table border=\"1\" class=\"dataframe\">\n",
       "  <thead>\n",
       "    <tr style=\"text-align: right;\">\n",
       "      <th></th>\n",
       "      <th>state_fips</th>\n",
       "      <th>state_name</th>\n",
       "      <th>county_name</th>\n",
       "      <th>area_name</th>\n",
       "      <th>lat</th>\n",
       "      <th>long</th>\n",
       "      <th>date</th>\n",
       "      <th>cases</th>\n",
       "      <th>deaths</th>\n",
       "      <th>county_fips</th>\n",
       "      <th>...</th>\n",
       "      <th>population_estimate_2018</th>\n",
       "      <th>state_county</th>\n",
       "      <th>change_trend</th>\n",
       "      <th>trend</th>\n",
       "      <th>cases_per_hud_thousand</th>\n",
       "      <th>current_cases_per_hund_thou</th>\n",
       "      <th>current_number_cases_category</th>\n",
       "      <th>predicted_cases</th>\n",
       "      <th>accuracy</th>\n",
       "      <th>baseline_accuracy</th>\n",
       "    </tr>\n",
       "  </thead>\n",
       "  <tbody>\n",
       "    <tr>\n",
       "      <th>143796</th>\n",
       "      <td>26</td>\n",
       "      <td>Michigan</td>\n",
       "      <td>Calhoun County</td>\n",
       "      <td></td>\n",
       "      <td>42.2429896</td>\n",
       "      <td>-85.0123853</td>\n",
       "      <td>2020-06-01</td>\n",
       "      <td>372</td>\n",
       "      <td>22</td>\n",
       "      <td>26025</td>\n",
       "      <td>...</td>\n",
       "      <td>134487</td>\n",
       "      <td>Michigan, Calhoun County</td>\n",
       "      <td>0.935504</td>\n",
       "      <td>leveling off</td>\n",
       "      <td>276.606661</td>\n",
       "      <td>507.483995</td>\n",
       "      <td>relatively low cases</td>\n",
       "      <td>376.270073</td>\n",
       "      <td>99.222938</td>\n",
       "      <td>NaN</td>\n",
       "    </tr>\n",
       "    <tr>\n",
       "      <th>143797</th>\n",
       "      <td>26</td>\n",
       "      <td>Michigan</td>\n",
       "      <td>Calhoun County</td>\n",
       "      <td></td>\n",
       "      <td>42.2429896</td>\n",
       "      <td>-85.0123853</td>\n",
       "      <td>2020-06-02</td>\n",
       "      <td>386</td>\n",
       "      <td>23</td>\n",
       "      <td>26025</td>\n",
       "      <td>...</td>\n",
       "      <td>134487</td>\n",
       "      <td>Michigan, Calhoun County</td>\n",
       "      <td>0.935504</td>\n",
       "      <td>leveling off</td>\n",
       "      <td>287.016589</td>\n",
       "      <td>507.483995</td>\n",
       "      <td>relatively low cases</td>\n",
       "      <td>389.548449</td>\n",
       "      <td>99.222938</td>\n",
       "      <td>NaN</td>\n",
       "    </tr>\n",
       "    <tr>\n",
       "      <th>143798</th>\n",
       "      <td>26</td>\n",
       "      <td>Michigan</td>\n",
       "      <td>Calhoun County</td>\n",
       "      <td></td>\n",
       "      <td>42.2429896</td>\n",
       "      <td>-85.0123853</td>\n",
       "      <td>2020-06-03</td>\n",
       "      <td>392</td>\n",
       "      <td>23</td>\n",
       "      <td>26025</td>\n",
       "      <td>...</td>\n",
       "      <td>134487</td>\n",
       "      <td>Michigan, Calhoun County</td>\n",
       "      <td>0.935504</td>\n",
       "      <td>leveling off</td>\n",
       "      <td>291.477987</td>\n",
       "      <td>507.483995</td>\n",
       "      <td>relatively low cases</td>\n",
       "      <td>401.293538</td>\n",
       "      <td>99.222938</td>\n",
       "      <td>NaN</td>\n",
       "    </tr>\n",
       "    <tr>\n",
       "      <th>143799</th>\n",
       "      <td>26</td>\n",
       "      <td>Michigan</td>\n",
       "      <td>Calhoun County</td>\n",
       "      <td></td>\n",
       "      <td>42.2429896</td>\n",
       "      <td>-85.0123853</td>\n",
       "      <td>2020-06-04</td>\n",
       "      <td>398</td>\n",
       "      <td>23</td>\n",
       "      <td>26025</td>\n",
       "      <td>...</td>\n",
       "      <td>134487</td>\n",
       "      <td>Michigan, Calhoun County</td>\n",
       "      <td>0.935504</td>\n",
       "      <td>leveling off</td>\n",
       "      <td>295.939384</td>\n",
       "      <td>507.483995</td>\n",
       "      <td>relatively low cases</td>\n",
       "      <td>414.863058</td>\n",
       "      <td>99.222938</td>\n",
       "      <td>NaN</td>\n",
       "    </tr>\n",
       "    <tr>\n",
       "      <th>143800</th>\n",
       "      <td>26</td>\n",
       "      <td>Michigan</td>\n",
       "      <td>Calhoun County</td>\n",
       "      <td></td>\n",
       "      <td>42.2429896</td>\n",
       "      <td>-85.0123853</td>\n",
       "      <td>2020-06-05</td>\n",
       "      <td>454</td>\n",
       "      <td>25</td>\n",
       "      <td>26025</td>\n",
       "      <td>...</td>\n",
       "      <td>134487</td>\n",
       "      <td>Michigan, Calhoun County</td>\n",
       "      <td>0.935504</td>\n",
       "      <td>leveling off</td>\n",
       "      <td>337.579097</td>\n",
       "      <td>507.483995</td>\n",
       "      <td>relatively low cases</td>\n",
       "      <td>435.389303</td>\n",
       "      <td>99.222938</td>\n",
       "      <td>NaN</td>\n",
       "    </tr>\n",
       "  </tbody>\n",
       "</table>\n",
       "<p>5 rows × 21 columns</p>\n",
       "</div>"
      ],
      "text/plain": [
       "       state_fips state_name     county_name area_name         lat  \\\n",
       "143796         26   Michigan  Calhoun County            42.2429896   \n",
       "143797         26   Michigan  Calhoun County            42.2429896   \n",
       "143798         26   Michigan  Calhoun County            42.2429896   \n",
       "143799         26   Michigan  Calhoun County            42.2429896   \n",
       "143800         26   Michigan  Calhoun County            42.2429896   \n",
       "\n",
       "               long       date  cases deaths  county_fips  ...  \\\n",
       "143796  -85.0123853 2020-06-01    372     22        26025  ...   \n",
       "143797  -85.0123853 2020-06-02    386     23        26025  ...   \n",
       "143798  -85.0123853 2020-06-03    392     23        26025  ...   \n",
       "143799  -85.0123853 2020-06-04    398     23        26025  ...   \n",
       "143800  -85.0123853 2020-06-05    454     25        26025  ...   \n",
       "\n",
       "        population_estimate_2018              state_county change_trend  \\\n",
       "143796                    134487  Michigan, Calhoun County     0.935504   \n",
       "143797                    134487  Michigan, Calhoun County     0.935504   \n",
       "143798                    134487  Michigan, Calhoun County     0.935504   \n",
       "143799                    134487  Michigan, Calhoun County     0.935504   \n",
       "143800                    134487  Michigan, Calhoun County     0.935504   \n",
       "\n",
       "               trend cases_per_hud_thousand  current_cases_per_hund_thou  \\\n",
       "143796  leveling off             276.606661                   507.483995   \n",
       "143797  leveling off             287.016589                   507.483995   \n",
       "143798  leveling off             291.477987                   507.483995   \n",
       "143799  leveling off             295.939384                   507.483995   \n",
       "143800  leveling off             337.579097                   507.483995   \n",
       "\n",
       "        current_number_cases_category predicted_cases   accuracy  \\\n",
       "143796           relatively low cases      376.270073  99.222938   \n",
       "143797           relatively low cases      389.548449  99.222938   \n",
       "143798           relatively low cases      401.293538  99.222938   \n",
       "143799           relatively low cases      414.863058  99.222938   \n",
       "143800           relatively low cases      435.389303  99.222938   \n",
       "\n",
       "        baseline_accuracy  \n",
       "143796                NaN  \n",
       "143797                NaN  \n",
       "143798                NaN  \n",
       "143799                NaN  \n",
       "143800                NaN  \n",
       "\n",
       "[5 rows x 21 columns]"
      ]
     },
     "execution_count": 67,
     "metadata": {},
     "output_type": "execute_result"
    }
   ],
   "source": [
    "int_df.head()"
   ]
  },
  {
   "cell_type": "markdown",
   "metadata": {},
   "source": [
    "# Individually check all cases"
   ]
  },
  {
   "cell_type": "code",
   "execution_count": 68,
   "metadata": {},
   "outputs": [],
   "source": [
    "number_ = 19"
   ]
  },
  {
   "cell_type": "code",
   "execution_count": 69,
   "metadata": {},
   "outputs": [],
   "source": [
    "check = df[df['state_county'] == 'West Virginia, Boone County'][['date', 'cases', 'predicted_cases']]"
   ]
  },
  {
   "cell_type": "code",
   "execution_count": 70,
   "metadata": {},
   "outputs": [
    {
     "data": {
      "text/plain": [
       "'Michigan, Calhoun County'"
      ]
     },
     "execution_count": 70,
     "metadata": {},
     "output_type": "execute_result"
    }
   ],
   "source": [
    "all_state_county[number_]"
   ]
  },
  {
   "cell_type": "code",
   "execution_count": 71,
   "metadata": {},
   "outputs": [
    {
     "data": {
      "text/plain": [
       "54"
      ]
     },
     "execution_count": 71,
     "metadata": {},
     "output_type": "execute_result"
    }
   ],
   "source": [
    "len(check)"
   ]
  },
  {
   "cell_type": "code",
   "execution_count": 72,
   "metadata": {},
   "outputs": [
    {
     "data": {
      "text/html": [
       "<div>\n",
       "<style scoped>\n",
       "    .dataframe tbody tr th:only-of-type {\n",
       "        vertical-align: middle;\n",
       "    }\n",
       "\n",
       "    .dataframe tbody tr th {\n",
       "        vertical-align: top;\n",
       "    }\n",
       "\n",
       "    .dataframe thead th {\n",
       "        text-align: right;\n",
       "    }\n",
       "</style>\n",
       "<table border=\"1\" class=\"dataframe\">\n",
       "  <thead>\n",
       "    <tr style=\"text-align: right;\">\n",
       "      <th></th>\n",
       "      <th>date</th>\n",
       "      <th>cases</th>\n",
       "      <th>predicted_cases</th>\n",
       "    </tr>\n",
       "  </thead>\n",
       "  <tbody>\n",
       "    <tr>\n",
       "      <th>348587</th>\n",
       "      <td>2020-07-15</td>\n",
       "      <td>46</td>\n",
       "      <td>33.059674</td>\n",
       "    </tr>\n",
       "    <tr>\n",
       "      <th>348588</th>\n",
       "      <td>2020-07-16</td>\n",
       "      <td>50</td>\n",
       "      <td>34.260870</td>\n",
       "    </tr>\n",
       "    <tr>\n",
       "      <th>348589</th>\n",
       "      <td>2020-07-17</td>\n",
       "      <td>53</td>\n",
       "      <td>35.637923</td>\n",
       "    </tr>\n",
       "    <tr>\n",
       "      <th>348590</th>\n",
       "      <td>2020-07-18</td>\n",
       "      <td>57</td>\n",
       "      <td>36.357771</td>\n",
       "    </tr>\n",
       "    <tr>\n",
       "      <th>348591</th>\n",
       "      <td>2020-07-19</td>\n",
       "      <td>61</td>\n",
       "      <td>37.420630</td>\n",
       "    </tr>\n",
       "    <tr>\n",
       "      <th>348592</th>\n",
       "      <td>2020-07-20</td>\n",
       "      <td>58</td>\n",
       "      <td>37.840758</td>\n",
       "    </tr>\n",
       "    <tr>\n",
       "      <th>348593</th>\n",
       "      <td>2020-07-21</td>\n",
       "      <td>59</td>\n",
       "      <td>39.866034</td>\n",
       "    </tr>\n",
       "    <tr>\n",
       "      <th>348594</th>\n",
       "      <td>2020-07-22</td>\n",
       "      <td>63</td>\n",
       "      <td>39.483045</td>\n",
       "    </tr>\n",
       "    <tr>\n",
       "      <th>348595</th>\n",
       "      <td>2020-07-23</td>\n",
       "      <td>64</td>\n",
       "      <td>40.845830</td>\n",
       "    </tr>\n",
       "    <tr>\n",
       "      <th>348596</th>\n",
       "      <td>2020-07-24</td>\n",
       "      <td>69</td>\n",
       "      <td>42.388508</td>\n",
       "    </tr>\n",
       "  </tbody>\n",
       "</table>\n",
       "</div>"
      ],
      "text/plain": [
       "             date  cases  predicted_cases\n",
       "348587 2020-07-15     46        33.059674\n",
       "348588 2020-07-16     50        34.260870\n",
       "348589 2020-07-17     53        35.637923\n",
       "348590 2020-07-18     57        36.357771\n",
       "348591 2020-07-19     61        37.420630\n",
       "348592 2020-07-20     58        37.840758\n",
       "348593 2020-07-21     59        39.866034\n",
       "348594 2020-07-22     63        39.483045\n",
       "348595 2020-07-23     64        40.845830\n",
       "348596 2020-07-24     69        42.388508"
      ]
     },
     "execution_count": 72,
     "metadata": {},
     "output_type": "execute_result"
    }
   ],
   "source": [
    "check.tail(10)"
   ]
  },
  {
   "cell_type": "code",
   "execution_count": 73,
   "metadata": {},
   "outputs": [
    {
     "data": {
      "text/plain": [
       "[<matplotlib.lines.Line2D at 0x2805bc04288>]"
      ]
     },
     "execution_count": 73,
     "metadata": {},
     "output_type": "execute_result"
    },
    {
     "data": {
      "image/png": "[encoded data removed]",
      "text/plain": [
       "<Figure size 1152x720 with 1 Axes>"
      ]
     },
     "metadata": {
      "needs_background": "light"
     },
     "output_type": "display_data"
    }
   ],
   "source": [
    "plt.figure (figsize=(16,10))\n",
    "plt.scatter(check['date'], check['cases'], lw=4)\n",
    "plt.plot(check['date'], check['predicted_cases'], color='r', lw=4)"
   ]
  },
  {
   "cell_type": "code",
   "execution_count": 74,
   "metadata": {},
   "outputs": [
    {
     "data": {
      "image/png": "[encoded data removed]",
      "text/plain": [
       "<Figure size 648x432 with 2 Axes>"
      ]
     },
     "metadata": {},
     "output_type": "display_data"
    }
   ],
   "source": [
    "fig = model.plot_components(forecast)"
   ]
  },
  {
   "cell_type": "code",
   "execution_count": 75,
   "metadata": {},
   "outputs": [
    {
     "data": {
      "text/html": [
       "<div>\n",
       "<style scoped>\n",
       "    .dataframe tbody tr th:only-of-type {\n",
       "        vertical-align: middle;\n",
       "    }\n",
       "\n",
       "    .dataframe tbody tr th {\n",
       "        vertical-align: top;\n",
       "    }\n",
       "\n",
       "    .dataframe thead th {\n",
       "        text-align: right;\n",
       "    }\n",
       "</style>\n",
       "<table border=\"1\" class=\"dataframe\">\n",
       "  <thead>\n",
       "    <tr style=\"text-align: right;\">\n",
       "      <th></th>\n",
       "      <th>state_fips</th>\n",
       "      <th>state_name</th>\n",
       "      <th>county_name</th>\n",
       "      <th>area_name</th>\n",
       "      <th>lat</th>\n",
       "      <th>long</th>\n",
       "      <th>date</th>\n",
       "      <th>cases</th>\n",
       "      <th>deaths</th>\n",
       "      <th>county_fips</th>\n",
       "      <th>...</th>\n",
       "      <th>population_estimate_2018</th>\n",
       "      <th>state_county</th>\n",
       "      <th>change_trend</th>\n",
       "      <th>trend</th>\n",
       "      <th>cases_per_hud_thousand</th>\n",
       "      <th>current_cases_per_hund_thou</th>\n",
       "      <th>current_number_cases_category</th>\n",
       "      <th>predicted_cases</th>\n",
       "      <th>accuracy</th>\n",
       "      <th>baseline_accuracy</th>\n",
       "    </tr>\n",
       "  </thead>\n",
       "  <tbody>\n",
       "    <tr>\n",
       "      <th>143796</th>\n",
       "      <td>26</td>\n",
       "      <td>Michigan</td>\n",
       "      <td>Calhoun County</td>\n",
       "      <td></td>\n",
       "      <td>42.2429896</td>\n",
       "      <td>-85.0123853</td>\n",
       "      <td>2020-06-01</td>\n",
       "      <td>372</td>\n",
       "      <td>22</td>\n",
       "      <td>26025</td>\n",
       "      <td>...</td>\n",
       "      <td>134487</td>\n",
       "      <td>Michigan, Calhoun County</td>\n",
       "      <td>0.935504</td>\n",
       "      <td>leveling off</td>\n",
       "      <td>276.606661</td>\n",
       "      <td>507.483995</td>\n",
       "      <td>relatively low cases</td>\n",
       "      <td>376.270073</td>\n",
       "      <td>99.222938</td>\n",
       "      <td>NaN</td>\n",
       "    </tr>\n",
       "    <tr>\n",
       "      <th>143797</th>\n",
       "      <td>26</td>\n",
       "      <td>Michigan</td>\n",
       "      <td>Calhoun County</td>\n",
       "      <td></td>\n",
       "      <td>42.2429896</td>\n",
       "      <td>-85.0123853</td>\n",
       "      <td>2020-06-02</td>\n",
       "      <td>386</td>\n",
       "      <td>23</td>\n",
       "      <td>26025</td>\n",
       "      <td>...</td>\n",
       "      <td>134487</td>\n",
       "      <td>Michigan, Calhoun County</td>\n",
       "      <td>0.935504</td>\n",
       "      <td>leveling off</td>\n",
       "      <td>287.016589</td>\n",
       "      <td>507.483995</td>\n",
       "      <td>relatively low cases</td>\n",
       "      <td>389.548449</td>\n",
       "      <td>99.222938</td>\n",
       "      <td>NaN</td>\n",
       "    </tr>\n",
       "    <tr>\n",
       "      <th>143798</th>\n",
       "      <td>26</td>\n",
       "      <td>Michigan</td>\n",
       "      <td>Calhoun County</td>\n",
       "      <td></td>\n",
       "      <td>42.2429896</td>\n",
       "      <td>-85.0123853</td>\n",
       "      <td>2020-06-03</td>\n",
       "      <td>392</td>\n",
       "      <td>23</td>\n",
       "      <td>26025</td>\n",
       "      <td>...</td>\n",
       "      <td>134487</td>\n",
       "      <td>Michigan, Calhoun County</td>\n",
       "      <td>0.935504</td>\n",
       "      <td>leveling off</td>\n",
       "      <td>291.477987</td>\n",
       "      <td>507.483995</td>\n",
       "      <td>relatively low cases</td>\n",
       "      <td>401.293538</td>\n",
       "      <td>99.222938</td>\n",
       "      <td>NaN</td>\n",
       "    </tr>\n",
       "    <tr>\n",
       "      <th>143799</th>\n",
       "      <td>26</td>\n",
       "      <td>Michigan</td>\n",
       "      <td>Calhoun County</td>\n",
       "      <td></td>\n",
       "      <td>42.2429896</td>\n",
       "      <td>-85.0123853</td>\n",
       "      <td>2020-06-04</td>\n",
       "      <td>398</td>\n",
       "      <td>23</td>\n",
       "      <td>26025</td>\n",
       "      <td>...</td>\n",
       "      <td>134487</td>\n",
       "      <td>Michigan, Calhoun County</td>\n",
       "      <td>0.935504</td>\n",
       "      <td>leveling off</td>\n",
       "      <td>295.939384</td>\n",
       "      <td>507.483995</td>\n",
       "      <td>relatively low cases</td>\n",
       "      <td>414.863058</td>\n",
       "      <td>99.222938</td>\n",
       "      <td>NaN</td>\n",
       "    </tr>\n",
       "    <tr>\n",
       "      <th>143800</th>\n",
       "      <td>26</td>\n",
       "      <td>Michigan</td>\n",
       "      <td>Calhoun County</td>\n",
       "      <td></td>\n",
       "      <td>42.2429896</td>\n",
       "      <td>-85.0123853</td>\n",
       "      <td>2020-06-05</td>\n",
       "      <td>454</td>\n",
       "      <td>25</td>\n",
       "      <td>26025</td>\n",
       "      <td>...</td>\n",
       "      <td>134487</td>\n",
       "      <td>Michigan, Calhoun County</td>\n",
       "      <td>0.935504</td>\n",
       "      <td>leveling off</td>\n",
       "      <td>337.579097</td>\n",
       "      <td>507.483995</td>\n",
       "      <td>relatively low cases</td>\n",
       "      <td>435.389303</td>\n",
       "      <td>99.222938</td>\n",
       "      <td>NaN</td>\n",
       "    </tr>\n",
       "  </tbody>\n",
       "</table>\n",
       "<p>5 rows × 21 columns</p>\n",
       "</div>"
      ],
      "text/plain": [
       "       state_fips state_name     county_name area_name         lat  \\\n",
       "143796         26   Michigan  Calhoun County            42.2429896   \n",
       "143797         26   Michigan  Calhoun County            42.2429896   \n",
       "143798         26   Michigan  Calhoun County            42.2429896   \n",
       "143799         26   Michigan  Calhoun County            42.2429896   \n",
       "143800         26   Michigan  Calhoun County            42.2429896   \n",
       "\n",
       "               long       date  cases deaths  county_fips  ...  \\\n",
       "143796  -85.0123853 2020-06-01    372     22        26025  ...   \n",
       "143797  -85.0123853 2020-06-02    386     23        26025  ...   \n",
       "143798  -85.0123853 2020-06-03    392     23        26025  ...   \n",
       "143799  -85.0123853 2020-06-04    398     23        26025  ...   \n",
       "143800  -85.0123853 2020-06-05    454     25        26025  ...   \n",
       "\n",
       "        population_estimate_2018              state_county change_trend  \\\n",
       "143796                    134487  Michigan, Calhoun County     0.935504   \n",
       "143797                    134487  Michigan, Calhoun County     0.935504   \n",
       "143798                    134487  Michigan, Calhoun County     0.935504   \n",
       "143799                    134487  Michigan, Calhoun County     0.935504   \n",
       "143800                    134487  Michigan, Calhoun County     0.935504   \n",
       "\n",
       "               trend cases_per_hud_thousand  current_cases_per_hund_thou  \\\n",
       "143796  leveling off             276.606661                   507.483995   \n",
       "143797  leveling off             287.016589                   507.483995   \n",
       "143798  leveling off             291.477987                   507.483995   \n",
       "143799  leveling off             295.939384                   507.483995   \n",
       "143800  leveling off             337.579097                   507.483995   \n",
       "\n",
       "        current_number_cases_category predicted_cases   accuracy  \\\n",
       "143796           relatively low cases      376.270073  99.222938   \n",
       "143797           relatively low cases      389.548449  99.222938   \n",
       "143798           relatively low cases      401.293538  99.222938   \n",
       "143799           relatively low cases      414.863058  99.222938   \n",
       "143800           relatively low cases      435.389303  99.222938   \n",
       "\n",
       "        baseline_accuracy  \n",
       "143796                NaN  \n",
       "143797                NaN  \n",
       "143798                NaN  \n",
       "143799                NaN  \n",
       "143800                NaN  \n",
       "\n",
       "[5 rows x 21 columns]"
      ]
     },
     "execution_count": 75,
     "metadata": {},
     "output_type": "execute_result"
    }
   ],
   "source": [
    "df[df['state_county'] == all_state_county[number_]].head()"
   ]
  },
  {
   "cell_type": "code",
   "execution_count": 76,
   "metadata": {},
   "outputs": [],
   "source": [
    "acc_check = df.groupby('state_county')[['accuracy', 'baseline_accuracy']].mean()"
   ]
  },
  {
   "cell_type": "code",
   "execution_count": 77,
   "metadata": {},
   "outputs": [
    {
     "data": {
      "text/html": [
       "<div>\n",
       "<style scoped>\n",
       "    .dataframe tbody tr th:only-of-type {\n",
       "        vertical-align: middle;\n",
       "    }\n",
       "\n",
       "    .dataframe tbody tr th {\n",
       "        vertical-align: top;\n",
       "    }\n",
       "\n",
       "    .dataframe thead th {\n",
       "        text-align: right;\n",
       "    }\n",
       "</style>\n",
       "<table border=\"1\" class=\"dataframe\">\n",
       "  <thead>\n",
       "    <tr style=\"text-align: right;\">\n",
       "      <th></th>\n",
       "      <th>accuracy</th>\n",
       "      <th>baseline_accuracy</th>\n",
       "    </tr>\n",
       "    <tr>\n",
       "      <th>state_county</th>\n",
       "      <th></th>\n",
       "      <th></th>\n",
       "    </tr>\n",
       "  </thead>\n",
       "  <tbody>\n",
       "    <tr>\n",
       "      <th>Arizona, Pima County</th>\n",
       "      <td>94.218270</td>\n",
       "      <td>89.998464</td>\n",
       "    </tr>\n",
       "    <tr>\n",
       "      <th>California, San Luis Obispo County</th>\n",
       "      <td>97.304037</td>\n",
       "      <td>83.915593</td>\n",
       "    </tr>\n",
       "    <tr>\n",
       "      <th>Florida, Calhoun County</th>\n",
       "      <td>74.927075</td>\n",
       "      <td>80.004199</td>\n",
       "    </tr>\n",
       "    <tr>\n",
       "      <th>Georgia, Jasper County</th>\n",
       "      <td>97.438456</td>\n",
       "      <td>88.760614</td>\n",
       "    </tr>\n",
       "    <tr>\n",
       "      <th>Georgia, Jones County</th>\n",
       "      <td>92.252858</td>\n",
       "      <td>81.807923</td>\n",
       "    </tr>\n",
       "    <tr>\n",
       "      <th>Iowa, Butler County</th>\n",
       "      <td>92.719754</td>\n",
       "      <td>85.126662</td>\n",
       "    </tr>\n",
       "    <tr>\n",
       "      <th>Michigan, Alpena County</th>\n",
       "      <td>98.669563</td>\n",
       "      <td>98.639355</td>\n",
       "    </tr>\n",
       "    <tr>\n",
       "      <th>Michigan, Calhoun County</th>\n",
       "      <td>99.222938</td>\n",
       "      <td>94.501272</td>\n",
       "    </tr>\n",
       "    <tr>\n",
       "      <th>Michigan, Isabella County</th>\n",
       "      <td>97.154920</td>\n",
       "      <td>89.081014</td>\n",
       "    </tr>\n",
       "    <tr>\n",
       "      <th>Minnesota, Redwood County</th>\n",
       "      <td>88.132041</td>\n",
       "      <td>94.071022</td>\n",
       "    </tr>\n",
       "    <tr>\n",
       "      <th>Nebraska, Otoe County</th>\n",
       "      <td>91.058880</td>\n",
       "      <td>87.309497</td>\n",
       "    </tr>\n",
       "    <tr>\n",
       "      <th>Nebraska, Valley County</th>\n",
       "      <td>94.279311</td>\n",
       "      <td>88.888889</td>\n",
       "    </tr>\n",
       "    <tr>\n",
       "      <th>Nevada, Washoe County</th>\n",
       "      <td>98.933347</td>\n",
       "      <td>89.633373</td>\n",
       "    </tr>\n",
       "    <tr>\n",
       "      <th>New Jersey, Hunterdon County</th>\n",
       "      <td>99.640695</td>\n",
       "      <td>99.448277</td>\n",
       "    </tr>\n",
       "    <tr>\n",
       "      <th>New Mexico, Luna County</th>\n",
       "      <td>74.933356</td>\n",
       "      <td>86.530520</td>\n",
       "    </tr>\n",
       "    <tr>\n",
       "      <th>North Carolina, Craven County</th>\n",
       "      <td>98.229654</td>\n",
       "      <td>91.846465</td>\n",
       "    </tr>\n",
       "    <tr>\n",
       "      <th>Texas, Archer County</th>\n",
       "      <td>68.777996</td>\n",
       "      <td>96.923077</td>\n",
       "    </tr>\n",
       "    <tr>\n",
       "      <th>Texas, Deaf Smith County</th>\n",
       "      <td>90.728830</td>\n",
       "      <td>90.288024</td>\n",
       "    </tr>\n",
       "    <tr>\n",
       "      <th>Texas, Dimmit County</th>\n",
       "      <td>68.536902</td>\n",
       "      <td>69.953977</td>\n",
       "    </tr>\n",
       "    <tr>\n",
       "      <th>West Virginia, Boone County</th>\n",
       "      <td>65.350078</td>\n",
       "      <td>66.395750</td>\n",
       "    </tr>\n",
       "  </tbody>\n",
       "</table>\n",
       "</div>"
      ],
      "text/plain": [
       "                                     accuracy  baseline_accuracy\n",
       "state_county                                                    \n",
       "Arizona, Pima County                94.218270          89.998464\n",
       "California, San Luis Obispo County  97.304037          83.915593\n",
       "Florida, Calhoun County             74.927075          80.004199\n",
       "Georgia, Jasper County              97.438456          88.760614\n",
       "Georgia, Jones County               92.252858          81.807923\n",
       "Iowa, Butler County                 92.719754          85.126662\n",
       "Michigan, Alpena County             98.669563          98.639355\n",
       "Michigan, Calhoun County            99.222938          94.501272\n",
       "Michigan, Isabella County           97.154920          89.081014\n",
       "Minnesota, Redwood County           88.132041          94.071022\n",
       "Nebraska, Otoe County               91.058880          87.309497\n",
       "Nebraska, Valley County             94.279311          88.888889\n",
       "Nevada, Washoe County               98.933347          89.633373\n",
       "New Jersey, Hunterdon County        99.640695          99.448277\n",
       "New Mexico, Luna County             74.933356          86.530520\n",
       "North Carolina, Craven County       98.229654          91.846465\n",
       "Texas, Archer County                68.777996          96.923077\n",
       "Texas, Deaf Smith County            90.728830          90.288024\n",
       "Texas, Dimmit County                68.536902          69.953977\n",
       "West Virginia, Boone County         65.350078          66.395750"
      ]
     },
     "execution_count": 77,
     "metadata": {},
     "output_type": "execute_result"
    }
   ],
   "source": [
    "acc_check"
   ]
  },
  {
   "cell_type": "code",
   "execution_count": 78,
   "metadata": {},
   "outputs": [
    {
     "data": {
      "text/plain": [
       "89.12544804068702"
      ]
     },
     "execution_count": 78,
     "metadata": {},
     "output_type": "execute_result"
    }
   ],
   "source": [
    "acc_check['accuracy'].mean()"
   ]
  },
  {
   "cell_type": "code",
   "execution_count": 79,
   "metadata": {},
   "outputs": [
    {
     "data": {
      "text/plain": [
       "87.65619835162684"
      ]
     },
     "execution_count": 79,
     "metadata": {},
     "output_type": "execute_result"
    }
   ],
   "source": [
    "acc_check['baseline_accuracy'].mean()"
   ]
  },
  {
   "cell_type": "code",
   "execution_count": null,
   "metadata": {},
   "outputs": [],
   "source": []
  }
 ],
 "metadata": {
  "kernelspec": {
   "display_name": "Python 3",
   "language": "python",
   "name": "python3"
  },
  "language_info": {
   "codemirror_mode": {
    "name": "ipython",
    "version": 3
   },
   "file_extension": ".py",
   "mimetype": "text/x-python",
   "name": "python",
   "nbconvert_exporter": "python",
   "pygments_lexer": "ipython3",
   "version": "3.7.5"
  }
 },
 "nbformat": 4,
 "nbformat_minor": 4
}