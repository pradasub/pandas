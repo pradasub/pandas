{
 "cells": [
  {
   "cell_type": "code",
   "execution_count": null,
   "metadata": {},
   "outputs": [],
   "source": [
    " with pd.ExcelWriter('Route.xlsx') as writer:  # doctest: +SKIP\n",
    "        group.to_excel(writer, sheet_name='route_plant_city_cost')\n",
    "        group2.to_excel(writer, sheet_name='just_route')\n",
    "        group3.to_excel(writer, sheet_name='supplying_receiving_plant')"
   ]
  }
 ],
 "metadata": {
  "kernelspec": {
   "display_name": "Python 3",
   "language": "python",
   "name": "python3"
  },
  "language_info": {
   "codemirror_mode": {
    "name": "ipython",
    "version": 3
   },
   "file_extension": ".py",
   "mimetype": "text/x-python",
   "name": "python",
   "nbconvert_exporter": "python",
   "pygments_lexer": "ipython3",
   "version": "3.7.5"
  }
 },
 "nbformat": 4,
 "nbformat_minor": 2
}
